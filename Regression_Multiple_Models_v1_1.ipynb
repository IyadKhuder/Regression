{
  "nbformat": 4,
  "nbformat_minor": 0,
  "metadata": {
    "colab": {
      "provenance": [],
      "include_colab_link": true
    },
    "kernelspec": {
      "name": "python3",
      "display_name": "Python 3"
    }
  },
  "cells": [
    {
      "cell_type": "markdown",
      "metadata": {
        "id": "view-in-github",
        "colab_type": "text"
      },
      "source": [
        "<a href=\"https://colab.research.google.com/github/IyadKhuder/Regression_Multiple_Models_v1.1/blob/main/Regression_Multiple_Models_v1_1.ipynb\" target=\"_parent\"><img src=\"https://colab.research.google.com/assets/colab-badge.svg\" alt=\"Open In Colab\"/></a>"
      ]
    },
    {
      "cell_type": "markdown",
      "source": [
        "In this Notebook, I'm covering the following models: \n",
        "# I.    Polynomial Regression \n",
        "# II.   SVR\n",
        "# III. Decision Tree\n",
        "# IV. Random Forest Regression"
      ],
      "metadata": {
        "id": "s_CIwDo00g_d"
      }
    },
    {
      "cell_type": "markdown",
      "source": [
        "\n",
        "\n",
        "---\n",
        "\n"
      ],
      "metadata": {
        "id": "3HjpZ_WC26rC"
      }
    },
    {
      "cell_type": "markdown",
      "source": [
        "## Defining some variables"
      ],
      "metadata": {
        "id": "nEPxXTnwMcjh"
      }
    },
    {
      "cell_type": "code",
      "source": [
        "Dataset_location_on_Google_Drive = \"/content/drive/MyDrive/ML AI DS/iyad_khuder_ML_training/Datasets/\""
      ],
      "metadata": {
        "id": "CgZNWZkFuzfK"
      },
      "execution_count": 1,
      "outputs": []
    },
    {
      "cell_type": "markdown",
      "metadata": {
        "id": "EoRP98MpR-qj"
      },
      "source": [
        "## Importing the libraries"
      ]
    },
    {
      "cell_type": "code",
      "source": [
        "import numpy as np\n",
        "import matplotlib.pyplot as plt\n",
        "import pandas as pd"
      ],
      "metadata": {
        "id": "EL6x9mr6dtGP"
      },
      "execution_count": null,
      "outputs": []
    },
    {
      "cell_type": "markdown",
      "metadata": {
        "id": "fvBljkDj2pUN"
      },
      "source": [
        "## Connecting to Google Drive"
      ]
    },
    {
      "cell_type": "code",
      "source": [
        "from google.colab import drive\n",
        "drive.mount('/content/drive')"
      ],
      "metadata": {
        "colab": {
          "base_uri": "https://localhost:8080/"
        },
        "id": "4VY1J-m4fSeB",
        "outputId": "200e9442-913b-4dc1-ceca-79397905d2f3"
      },
      "execution_count": 2,
      "outputs": [
        {
          "output_type": "stream",
          "name": "stdout",
          "text": [
            "Mounted at /content/drive\n"
          ]
        }
      ]
    },
    {
      "cell_type": "markdown",
      "metadata": {
        "id": "xpXdowrE9DxW"
      },
      "source": [
        "## Importing the dataset"
      ]
    },
    {
      "cell_type": "code",
      "source": [
        "salaries_dataset = pd.read_csv(Dataset_location_on_Google_Drive+'salary_vs_position.csv')\n",
        "x= salaries_dataset.iloc[:,1:-1].values\n",
        "y= salaries_dataset.iloc[:,-1].values\n"
      ],
      "metadata": {
        "id": "ZPsrpvqGkFyS"
      },
      "execution_count": null,
      "outputs": []
    },
    {
      "cell_type": "markdown",
      "metadata": {
        "id": "vN99YjPTDena"
      },
      "source": [
        "# I. Polynomial Regression"
      ]
    },
    {
      "cell_type": "markdown",
      "metadata": {
        "id": "37puETfgRzzg"
      },
      "source": [
        "# Data Preprocessing"
      ]
    },
    {
      "cell_type": "code",
      "source": [
        "print(x)"
      ],
      "metadata": {
        "colab": {
          "base_uri": "https://localhost:8080/"
        },
        "id": "EJ68wRkYeRL2",
        "outputId": "3f850da8-aebd-406b-f350-61dcffd16e78"
      },
      "execution_count": null,
      "outputs": [
        {
          "output_type": "stream",
          "name": "stdout",
          "text": [
            "[[ 1]\n",
            " [ 2]\n",
            " [ 3]\n",
            " [ 4]\n",
            " [ 5]\n",
            " [ 6]\n",
            " [ 7]\n",
            " [ 8]\n",
            " [ 9]\n",
            " [10]]\n"
          ]
        }
      ]
    },
    {
      "cell_type": "code",
      "source": [
        "print(y)"
      ],
      "metadata": {
        "colab": {
          "base_uri": "https://localhost:8080/"
        },
        "id": "QkZpdamQeWOl",
        "outputId": "13197826-d7e5-4ec0-ed10-0f6444e88a1f"
      },
      "execution_count": null,
      "outputs": [
        {
          "output_type": "stream",
          "name": "stdout",
          "text": [
            "[  45000   50000   60000   80000  110000  150000  200000  300000  500000\n",
            " 1000000]\n"
          ]
        }
      ]
    },
    {
      "cell_type": "markdown",
      "metadata": {
        "id": "4JyoqVLAe8dS"
      },
      "source": [
        "## Training the Linear Regression model on the whole dataset"
      ]
    },
    {
      "cell_type": "code",
      "source": [
        "from sklearn.linear_model import LinearRegression\n",
        "lin_reg = LinearRegression()\n",
        "lin_reg.fit(x, y)"
      ],
      "metadata": {
        "colab": {
          "base_uri": "https://localhost:8080/"
        },
        "id": "JCP-2p1KioGJ",
        "outputId": "e372727f-3908-4a01-93e9-6efc88172080"
      },
      "execution_count": null,
      "outputs": [
        {
          "output_type": "execute_result",
          "data": {
            "text/plain": [
              "LinearRegression()"
            ]
          },
          "metadata": {},
          "execution_count": 12
        }
      ]
    },
    {
      "cell_type": "markdown",
      "metadata": {
        "id": "Rb5nWuSHEfBV"
      },
      "source": [
        "## Training the Polynomial Regression model on the whole dataset"
      ]
    },
    {
      "cell_type": "markdown",
      "source": [
        "a) For deg = 3"
      ],
      "metadata": {
        "id": "JffkTHk3qGA9"
      }
    },
    {
      "cell_type": "code",
      "source": [
        "from sklearn.preprocessing import PolynomialFeatures\n",
        "poly_reg_3 = PolynomialFeatures(degree=3)\n",
        "x_poly_3 = poly_reg_3.fit_transform(x)"
      ],
      "metadata": {
        "id": "Y6D0JJgAljbl"
      },
      "execution_count": null,
      "outputs": []
    },
    {
      "cell_type": "code",
      "source": [
        "print(x_poly_3[:,2])"
      ],
      "metadata": {
        "colab": {
          "base_uri": "https://localhost:8080/"
        },
        "id": "WFUuKJJAph08",
        "outputId": "022c1a30-fa11-42a5-f1a3-0e486352a00b"
      },
      "execution_count": null,
      "outputs": [
        {
          "output_type": "stream",
          "name": "stdout",
          "text": [
            "[  1.   4.   9.  16.  25.  36.  49.  64.  81. 100.]\n"
          ]
        }
      ]
    },
    {
      "cell_type": "code",
      "source": [
        "x1_3 = x_poly_3[:,1]\n",
        "x2_3 = x_poly_3[:,2]\n",
        "x3_3 = x_poly_3[:,3]"
      ],
      "metadata": {
        "id": "TgItJv3tp8KH"
      },
      "execution_count": null,
      "outputs": []
    },
    {
      "cell_type": "markdown",
      "source": [
        "The trick for the polynomila regression model is that it is converted into a multiple Linear Regression, where the powers of x are symbolized as multiple variables \"features\""
      ],
      "metadata": {
        "id": "4ChQtxb6s170"
      }
    },
    {
      "cell_type": "code",
      "source": [
        "lin_reg_3 = LinearRegression()\n",
        "lin_reg_3.fit(x_poly_3, y)"
      ],
      "metadata": {
        "colab": {
          "base_uri": "https://localhost:8080/"
        },
        "id": "vNy1G8Ecs171",
        "outputId": "5b9a001a-6f81-4dfb-a8f0-15d131ab960d"
      },
      "execution_count": null,
      "outputs": [
        {
          "output_type": "execute_result",
          "data": {
            "text/plain": [
              "LinearRegression()"
            ]
          },
          "metadata": {},
          "execution_count": 33
        }
      ]
    },
    {
      "cell_type": "markdown",
      "source": [
        "a) For deg = 5"
      ],
      "metadata": {
        "id": "UcdWIz8wqM5G"
      }
    },
    {
      "cell_type": "code",
      "source": [
        "from sklearn.preprocessing import PolynomialFeatures\n",
        "poly_reg_5 = PolynomialFeatures(degree=5)\n",
        "x_poly_5 = poly_reg_5.fit_transform(x)"
      ],
      "metadata": {
        "id": "18Q94z-OqM5H"
      },
      "execution_count": null,
      "outputs": []
    },
    {
      "cell_type": "code",
      "source": [
        "print(x_poly_5[:,2])"
      ],
      "metadata": {
        "colab": {
          "base_uri": "https://localhost:8080/"
        },
        "outputId": "73fc2c4a-f599-4391-9f2b-600f71a6d59c",
        "id": "LGBEu7MUqM5H"
      },
      "execution_count": null,
      "outputs": [
        {
          "output_type": "stream",
          "name": "stdout",
          "text": [
            "[  1.   4.   9.  16.  25.  36.  49.  64.  81. 100.]\n"
          ]
        }
      ]
    },
    {
      "cell_type": "code",
      "source": [
        "x1_5 = x_poly_5[:,1]\n",
        "x2_5 = x_poly_5[:,2]\n",
        "x3_5 = x_poly_5[:,3]"
      ],
      "metadata": {
        "id": "nGpCCcJPqM5I"
      },
      "execution_count": null,
      "outputs": []
    },
    {
      "cell_type": "code",
      "source": [
        "lin_reg_5 = LinearRegression()\n",
        "lin_reg_5.fit(x_poly_5, y)"
      ],
      "metadata": {
        "colab": {
          "base_uri": "https://localhost:8080/"
        },
        "id": "1r5TcVt4sVDP",
        "outputId": "fef91584-5dc6-45fb-efce-508fda368d4d"
      },
      "execution_count": null,
      "outputs": [
        {
          "output_type": "execute_result",
          "data": {
            "text/plain": [
              "LinearRegression()"
            ]
          },
          "metadata": {},
          "execution_count": 37
        }
      ]
    },
    {
      "cell_type": "markdown",
      "metadata": {
        "id": "0O8R0tzbEpvy"
      },
      "source": [
        "## Visualising the Linear Regression results"
      ]
    },
    {
      "cell_type": "code",
      "source": [
        "# plotting the real points of the dataset:\n",
        "plt.scatter(x, y, color = 'black')\n",
        "# plotting the linear model, as predicted by the trained LinearRegression:\n",
        "y_predict = lin_reg.predict(x)\n",
        "plt.plot(x, y_predict, color = 'blue')\n",
        "plt.title('Truth or bluf? - Linear Regression')\n",
        "plt.xlabel('Job position level')\n",
        "plt.ylabel('Salary')\n",
        "plt.show()"
      ],
      "metadata": {
        "colab": {
          "base_uri": "https://localhost:8080/",
          "height": 295
        },
        "id": "xtApU4_ltlFr",
        "outputId": "bb7e0469-373f-4923-9020-fd9ead339ff9"
      },
      "execution_count": null,
      "outputs": [
        {
          "output_type": "display_data",
          "data": {
            "text/plain": [
              "<Figure size 432x288 with 1 Axes>"
            ],
            "image/png": "[encoded data removed]"
          },
          "metadata": {
            "needs_background": "light"
          }
        }
      ]
    },
    {
      "cell_type": "markdown",
      "metadata": {
        "id": "stOnSo74E52m"
      },
      "source": [
        "## Visualising both Linear & Polynomial Regression models together for comparison"
      ]
    },
    {
      "cell_type": "code",
      "source": [
        "# plotting the real points of the dataset:\n",
        "plt.scatter(x, y, color = 'black')\n",
        "\n",
        "# plotting the linear model, as predicted by the trained LinearRegression:\n",
        "y_predict = lin_reg.predict(x)\n",
        "plt.plot(x, y_predict, color = 'grey')\n",
        "\n",
        "# plotting the polynomial model of 3rd degree, \n",
        "# as predicted by the trained polynomial Regression poly_reg:\n",
        "y_predict_3 = lin_reg_3.predict(x_poly_3)\n",
        "plt.plot(x, y_predict_3, color = 'red')\n",
        "\n",
        "# plotting the polynomial model of 5th degree, \n",
        "# as predicted by the trained polynomial Regression poly_reg:\n",
        "y_predict_5 = lin_reg_5.predict(x_poly_5)\n",
        "plt.plot(x, y_predict_5, color = 'blue')\n",
        "\n",
        "plt.title('Truth or bluf? - Linear vs. Polynomial Regression')\n",
        "plt.xlabel('Job position level')\n",
        "plt.ylabel('Salary')\n",
        "plt.show()"
      ],
      "metadata": {
        "colab": {
          "base_uri": "https://localhost:8080/",
          "height": 295
        },
        "id": "w8VpjFvw52Tq",
        "outputId": "29aecb02-4189-45c2-9b1e-a2941ee7562e"
      },
      "execution_count": null,
      "outputs": [
        {
          "output_type": "display_data",
          "data": {
            "text/plain": [
              "<Figure size 432x288 with 1 Axes>"
            ],
            "image/png": "[encoded data removed]"
          },
          "metadata": {
            "needs_background": "light"
          }
        }
      ]
    },
    {
      "cell_type": "markdown",
      "source": [
        "We notice the the polynomial model of 5th degree is the best fit of the graph. However, we should be mindful of the risk of falling into the trap pf an overfitting model."
      ],
      "metadata": {
        "id": "TNH8S59lt88M"
      }
    },
    {
      "cell_type": "markdown",
      "metadata": {
        "id": "diyJFZHhFFeK"
      },
      "source": [
        "## Predicting a new result with Linear Regression"
      ]
    },
    {
      "cell_type": "code",
      "source": [
        "np.set_printoptions(precision=2)"
      ],
      "metadata": {
        "id": "LwP_htXUsUIy"
      },
      "execution_count": null,
      "outputs": []
    },
    {
      "cell_type": "code",
      "source": [
        "x0 = [[6.5]]"
      ],
      "metadata": {
        "id": "7Sjz1LhkrLgY"
      },
      "execution_count": null,
      "outputs": []
    },
    {
      "cell_type": "code",
      "source": [
        "y0_lin = lin_reg.predict(x0)"
      ],
      "metadata": {
        "id": "Zi8CzMqjr8nn"
      },
      "execution_count": null,
      "outputs": []
    },
    {
      "cell_type": "code",
      "source": [
        "print(y0_lin)"
      ],
      "metadata": {
        "colab": {
          "base_uri": "https://localhost:8080/"
        },
        "id": "hgyvhfH--xAf",
        "outputId": "485a6442-6d05-4f9b-bbda-b4c07e67cafe"
      },
      "execution_count": null,
      "outputs": [
        {
          "output_type": "stream",
          "name": "stdout",
          "text": [
            "[330378.79]\n"
          ]
        }
      ]
    },
    {
      "cell_type": "markdown",
      "metadata": {
        "id": "DW7I7ZVDFNkk"
      },
      "source": [
        "## Predicting a new result with Polynomial Regression"
      ]
    },
    {
      "cell_type": "code",
      "source": [
        "x0_pol = poly_reg_5.fit_transform(x0)"
      ],
      "metadata": {
        "id": "RoPaD5FGslYE"
      },
      "execution_count": null,
      "outputs": []
    },
    {
      "cell_type": "code",
      "source": [
        "y0_pol = lin_reg_5.predict(x0_pol)"
      ],
      "metadata": {
        "id": "R4pj6BQis4zz"
      },
      "execution_count": null,
      "outputs": []
    },
    {
      "cell_type": "code",
      "source": [
        "print(y0_pol)"
      ],
      "metadata": {
        "colab": {
          "base_uri": "https://localhost:8080/"
        },
        "id": "ScRE4_mZ-6Az",
        "outputId": "d7f880c7-428f-40c5-dd3d-e07db16070e3"
      },
      "execution_count": null,
      "outputs": [
        {
          "output_type": "stream",
          "name": "stdout",
          "text": [
            "[174878.08]\n"
          ]
        }
      ]
    },
    {
      "cell_type": "markdown",
      "source": [
        "\n",
        "\n",
        "---\n",
        "\n",
        "\n",
        "\n",
        "---\n",
        "\n"
      ],
      "metadata": {
        "id": "__4ER9pjwhf4"
      }
    },
    {
      "cell_type": "markdown",
      "metadata": {
        "id": "m3PAEPRDRLA3"
      },
      "source": [
        "# II. Support Vector Regression (SVR)"
      ]
    },
    {
      "cell_type": "markdown",
      "metadata": {
        "id": "piJwIv7NwwWv"
      },
      "source": [
        "# Data Preprocessing"
      ]
    },
    {
      "cell_type": "markdown",
      "metadata": {
        "id": "YS8FeLHYS-nI"
      },
      "source": [
        "## Feature Scaling"
      ]
    },
    {
      "cell_type": "code",
      "source": [
        "y.shape"
      ],
      "metadata": {
        "colab": {
          "base_uri": "https://localhost:8080/"
        },
        "id": "JfCTSX6RyDQJ",
        "outputId": "8d93f6de-3cd7-4594-d8ed-bb2d49332f59"
      },
      "execution_count": null,
      "outputs": [
        {
          "output_type": "execute_result",
          "data": {
            "text/plain": [
              "(10,)"
            ]
          },
          "metadata": {},
          "execution_count": 49
        }
      ]
    },
    {
      "cell_type": "code",
      "source": [
        "y=y.reshape(len(y),1)\n",
        "y.shape"
      ],
      "metadata": {
        "colab": {
          "base_uri": "https://localhost:8080/"
        },
        "id": "3ZKc77wayFXh",
        "outputId": "d84549f0-6afd-4def-c27a-68713c741b1d"
      },
      "execution_count": null,
      "outputs": [
        {
          "output_type": "execute_result",
          "data": {
            "text/plain": [
              "(10, 1)"
            ]
          },
          "metadata": {},
          "execution_count": 51
        }
      ]
    },
    {
      "cell_type": "markdown",
      "source": [
        "Note: without the above command\n",
        ", we'd get the error\n",
        "<br> \"Expected 2D array, got 1D array instead\"\n",
        " <br>  for the y array y, when we try the command \n",
        "<br> y_scaled = sc_y.fit_transform(y)\n",
        "<br> in the cell below\n",
        " "
      ],
      "metadata": {
        "id": "vhxWVLsjxsaj"
      }
    },
    {
      "cell_type": "code",
      "source": [
        "from sklearn.preprocessing import StandardScaler\n",
        "sc_x = StandardScaler()\n",
        "x_scaled = sc_x.fit_transform(x)\n",
        "sc_y = StandardScaler()\n",
        "y_scaled = sc_y.fit_transform(y)"
      ],
      "metadata": {
        "id": "sg7U3LKhV6Lo"
      },
      "execution_count": null,
      "outputs": []
    },
    {
      "cell_type": "code",
      "source": [
        "print(x_scaled)"
      ],
      "metadata": {
        "colab": {
          "base_uri": "https://localhost:8080/"
        },
        "id": "y70BAaXgXEUn",
        "outputId": "fffcbe6e-3931-443a-e062-988d71093a2b"
      },
      "execution_count": null,
      "outputs": [
        {
          "output_type": "stream",
          "name": "stdout",
          "text": [
            "[[-1.57]\n",
            " [-1.22]\n",
            " [-0.87]\n",
            " [-0.52]\n",
            " [-0.17]\n",
            " [ 0.17]\n",
            " [ 0.52]\n",
            " [ 0.87]\n",
            " [ 1.22]\n",
            " [ 1.57]]\n"
          ]
        }
      ]
    },
    {
      "cell_type": "code",
      "source": [
        "print(y_scaled)"
      ],
      "metadata": {
        "colab": {
          "base_uri": "https://localhost:8080/"
        },
        "id": "03i-R317XLk0",
        "outputId": "59c1026e-eadc-490a-8dec-602624b753b6"
      },
      "execution_count": null,
      "outputs": [
        {
          "output_type": "stream",
          "name": "stdout",
          "text": [
            "[[-0.72]\n",
            " [-0.7 ]\n",
            " [-0.67]\n",
            " [-0.6 ]\n",
            " [-0.49]\n",
            " [-0.35]\n",
            " [-0.17]\n",
            " [ 0.18]\n",
            " [ 0.88]\n",
            " [ 2.64]]\n"
          ]
        }
      ]
    },
    {
      "cell_type": "markdown",
      "metadata": {
        "id": "eiU6D2QFRjxY"
      },
      "source": [
        "## Training the SVR model on the whole dataset"
      ]
    },
    {
      "cell_type": "code",
      "source": [
        "from sklearn.svm import SVR\n",
        "regressor = SVR(kernel = 'rbf')\n",
        "regressor.fit(x_scaled,y_scaled)"
      ],
      "metadata": {
        "colab": {
          "base_uri": "https://localhost:8080/"
        },
        "id": "ZXLeQzVjXrtG",
        "outputId": "6d9d086a-f9fe-4478-ba83-eaabf16b04cf"
      },
      "execution_count": null,
      "outputs": [
        {
          "output_type": "stream",
          "name": "stderr",
          "text": [
            "/usr/local/lib/python3.7/dist-packages/sklearn/utils/validation.py:993: DataConversionWarning: A column-vector y was passed when a 1d array was expected. Please change the shape of y to (n_samples, ), for example using ravel().\n",
            "  y = column_or_1d(y, warn=True)\n"
          ]
        },
        {
          "output_type": "execute_result",
          "data": {
            "text/plain": [
              "SVR()"
            ]
          },
          "metadata": {},
          "execution_count": 55
        }
      ]
    },
    {
      "cell_type": "markdown",
      "metadata": {
        "id": "deDnDr8UR5vq"
      },
      "source": [
        "## Predicting a new result"
      ]
    },
    {
      "cell_type": "markdown",
      "source": [
        "The steps to follow here are:\n",
        "\n",
        "\n",
        "1.   Scale the input value (position level = 6.5), using the same object, which was used for x; i.e. sc_x\n",
        "2.   Apply the prediction method on the scaled value\n",
        "2.   The obtained value of y will be in the scaled form. Therefore, we need to apply the inverse transformation on it to get the corresponding value.\n",
        "\n",
        "Important note:\n",
        "For the requested value 6.5,\n",
        "when we want to scale it, we should use the function sc_x.transform to scale it, NOT sc_x.fit_transform\n",
        "if we use the latter one, it will override the original scaling for the array x, and scale it according to 6.5\n",
        "and in that case, the scaled value will be 0, because:\n",
        "for a single value, the mean is the same as the value itself, and therefore, the scaled value will be (6.5-6.5)/sigma = 0\n",
        "\n",
        "\n",
        "\n",
        "\n"
      ],
      "metadata": {
        "id": "64kvxLiTHWZN"
      }
    },
    {
      "cell_type": "code",
      "source": [
        "x0= np.array([[6.5]])"
      ],
      "metadata": {
        "id": "M6LKzCHmTmC0"
      },
      "execution_count": null,
      "outputs": []
    },
    {
      "cell_type": "code",
      "source": [
        "x0_scaled = sc_x.transform(x0)"
      ],
      "metadata": {
        "id": "3gSxu6mqWdM_"
      },
      "execution_count": null,
      "outputs": []
    },
    {
      "cell_type": "code",
      "source": [
        "print(x0_scaled)"
      ],
      "metadata": {
        "colab": {
          "base_uri": "https://localhost:8080/"
        },
        "id": "PuiFCTv4W5wb",
        "outputId": "8d8228fa-476a-4813-c361-35d5596880c2"
      },
      "execution_count": null,
      "outputs": [
        {
          "output_type": "stream",
          "name": "stdout",
          "text": [
            "[[0.35]]\n"
          ]
        }
      ]
    },
    {
      "cell_type": "code",
      "source": [
        "y0_scaled = regressor.predict(x0_scaled)\n",
        "print(y0_scaled)"
      ],
      "metadata": {
        "colab": {
          "base_uri": "https://localhost:8080/"
        },
        "id": "H8Gw-Bz8J-us",
        "outputId": "c3936b3d-e2f4-452d-f2d4-3af504f88f5a"
      },
      "execution_count": null,
      "outputs": [
        {
          "output_type": "stream",
          "name": "stdout",
          "text": [
            "[-0.28]\n"
          ]
        }
      ]
    },
    {
      "cell_type": "code",
      "source": [
        "y0 = sc_y.inverse_transform([y0_scaled])\n",
        "print(y0)"
      ],
      "metadata": {
        "colab": {
          "base_uri": "https://localhost:8080/"
        },
        "id": "rKZYQpxKJHVZ",
        "outputId": "288a8a4f-21a5-4e94-8c0c-d559289ddc42"
      },
      "execution_count": null,
      "outputs": [
        {
          "output_type": "stream",
          "name": "stdout",
          "text": [
            "[[170370.02]]\n"
          ]
        }
      ]
    },
    {
      "cell_type": "markdown",
      "source": [
        "Note on the scaling:\n",
        "When we scale a sample, all the scaled values will be in the range [approx. -2.7, approx. 2.7],\n",
        "Having applied fit_transform, if we scale a new value, which is beyond the range of the given sample, the scaled value will also be beyond the standard range mentioned above.\n",
        "In ML models, we usually try to find such extreme values.\n",
        "For example, the middle value in the array below, will be scaled to a value that is greater than 10000."
      ],
      "metadata": {
        "id": "yWyi5t4yBOe1"
      }
    },
    {
      "cell_type": "code",
      "source": [
        "x2= np.array([[2,  60000, 7.6]])\n",
        "x2col = np.transpose(x2)\n",
        "# x0col = np.transpose(x0)\n",
        "x2_scaled = sc_x.transform(x2col)\n",
        "print(x2_scaled)"
      ],
      "metadata": {
        "colab": {
          "base_uri": "https://localhost:8080/"
        },
        "id": "C_gMi0AyYoMu",
        "outputId": "e1594c57-dd14-4149-dd6c-7b8a900afbe4"
      },
      "execution_count": null,
      "outputs": [
        {
          "output_type": "stream",
          "name": "stdout",
          "text": [
            "[[-1.22e+00]\n",
            " [ 2.09e+04]\n",
            " [ 7.31e-01]]\n"
          ]
        }
      ]
    },
    {
      "cell_type": "markdown",
      "metadata": {
        "id": "zzedFlUISSu_"
      },
      "source": [
        "## Visualising the SVR results"
      ]
    },
    {
      "cell_type": "code",
      "source": [
        "# Getting the predicted values for the y, based on the trained model:\n",
        "y_predict_scaled = regressor.predict(x_scaled)\n",
        "print(y_predict_scaled)\n",
        "\n",
        "\n"
      ],
      "metadata": {
        "colab": {
          "base_uri": "https://localhost:8080/"
        },
        "outputId": "2eb96cf3-0804-4924-a684-04b7e099bd68",
        "id": "SWqArDgYxBmU"
      },
      "execution_count": null,
      "outputs": [
        {
          "output_type": "stream",
          "name": "stdout",
          "text": [
            "[-0.62 -0.63 -0.57 -0.5  -0.45 -0.37 -0.14  0.29  0.78  1.09]\n"
          ]
        }
      ]
    },
    {
      "cell_type": "code",
      "source": [
        "y_predict_scaled.shape"
      ],
      "metadata": {
        "colab": {
          "base_uri": "https://localhost:8080/"
        },
        "id": "eiJ0gwa4MSne",
        "outputId": "beea7ed9-2d18-47a0-cf49-b8319efb501c"
      },
      "execution_count": null,
      "outputs": [
        {
          "output_type": "execute_result",
          "data": {
            "text/plain": [
              "(10,)"
            ]
          },
          "metadata": {},
          "execution_count": 63
        }
      ]
    },
    {
      "cell_type": "code",
      "source": [
        "y_predict = sc_y.inverse_transform([y_predict_scaled])\n",
        "y_predict.shape"
      ],
      "metadata": {
        "colab": {
          "base_uri": "https://localhost:8080/"
        },
        "id": "fsiI0HphMluZ",
        "outputId": "340b5f05-3cc3-4467-8fb6-1e4bde7d908d"
      },
      "execution_count": null,
      "outputs": [
        {
          "output_type": "execute_result",
          "data": {
            "text/plain": [
              "(1, 10)"
            ]
          },
          "metadata": {},
          "execution_count": 64
        }
      ]
    },
    {
      "cell_type": "code",
      "source": [
        "y_predict_v = np.transpose(y_predict)"
      ],
      "metadata": {
        "id": "pDObtq5PN5oU"
      },
      "execution_count": null,
      "outputs": []
    },
    {
      "cell_type": "code",
      "source": [
        "y_predict_v.shape"
      ],
      "metadata": {
        "colab": {
          "base_uri": "https://localhost:8080/"
        },
        "id": "oIsdMsZTM2RN",
        "outputId": "933c1c48-46ae-4479-e129-419a0acd7fc2"
      },
      "execution_count": null,
      "outputs": [
        {
          "output_type": "execute_result",
          "data": {
            "text/plain": [
              "(10, 1)"
            ]
          },
          "metadata": {},
          "execution_count": 66
        }
      ]
    },
    {
      "cell_type": "code",
      "source": [
        "# plotting the real points of the dataset:\n",
        "plt.scatter(x, y, color = 'black')\n",
        "# plotting the SVR model, as predicted by the trained SVR Regression:\n",
        "\n",
        "\n",
        "\n",
        "plt.plot(x, y_predict_v, color = 'blue')\n",
        "\n",
        "plt.title('Truth or bluf? -SVR Regression')\n",
        "plt.xlabel('Job position level')\n",
        "plt.ylabel('Salary')\n",
        "plt.show()"
      ],
      "metadata": {
        "colab": {
          "base_uri": "https://localhost:8080/",
          "height": 295
        },
        "id": "SUAy74iuHOcc",
        "outputId": "af6384c8-a386-459b-8630-883e76e29a8e"
      },
      "execution_count": null,
      "outputs": [
        {
          "output_type": "display_data",
          "data": {
            "text/plain": [
              "<Figure size 432x288 with 1 Axes>"
            ],
            "image/png": "[encoded data removed]"
          },
          "metadata": {
            "needs_background": "light"
          }
        }
      ]
    },
    {
      "cell_type": "markdown",
      "source": [
        "\n",
        "\n",
        "---\n",
        "\n",
        "\n",
        "\n",
        "---\n",
        "\n"
      ],
      "metadata": {
        "id": "kz0SkGK63kZQ"
      }
    },
    {
      "cell_type": "markdown",
      "source": [
        "# III. Decision Tree"
      ],
      "metadata": {
        "id": "NaNnMYA63tJT"
      }
    },
    {
      "cell_type": "markdown",
      "metadata": {
        "id": "g16qFkFQVC35"
      },
      "source": [
        "## Training the Decision Tree Regression model on the whole dataset"
      ]
    },
    {
      "cell_type": "code",
      "metadata": {
        "id": "SLDKyv1SVUqS",
        "outputId": "f458bc82-ad43-49a6-814d-82c169c183f3",
        "colab": {
          "base_uri": "https://localhost:8080/"
        }
      },
      "source": [
        "from sklearn.tree import DecisionTreeRegressor\n",
        "# In the following line, we precise the seed of the random function, so we get the same pattern as in the course (so allstudents get a unified pattern)\n",
        "TreeRegressor = DecisionTreeRegressor(random_state = 0)\n",
        "TreeRegressor.fit(x, y)"
      ],
      "execution_count": null,
      "outputs": [
        {
          "output_type": "execute_result",
          "data": {
            "text/plain": [
              "DecisionTreeRegressor(random_state=0)"
            ]
          },
          "metadata": {},
          "execution_count": 72
        }
      ]
    },
    {
      "cell_type": "markdown",
      "metadata": {
        "id": "MQRGPTH3VcOn"
      },
      "source": [
        "## Predicting a new result"
      ]
    },
    {
      "cell_type": "code",
      "metadata": {
        "id": "_FpGZf7vVgrK",
        "outputId": "d2782fcb-4384-4624-fe3c-975428266d5d",
        "colab": {
          "base_uri": "https://localhost:8080/"
        }
      },
      "source": [
        "TreeRegressor.predict([[6.5]])"
      ],
      "execution_count": null,
      "outputs": [
        {
          "output_type": "execute_result",
          "data": {
            "text/plain": [
              "array([150000.])"
            ]
          },
          "metadata": {},
          "execution_count": 73
        }
      ]
    },
    {
      "cell_type": "markdown",
      "metadata": {
        "id": "ph8ExBj0VkIT"
      },
      "source": [
        "## Visualising the Decision Tree Regression results (higher resolution)"
      ]
    },
    {
      "cell_type": "code",
      "metadata": {
        "id": "zzH1Vv1oVrqe",
        "outputId": "6765dca2-647d-40e4-e986-6be765555765",
        "colab": {
          "base_uri": "https://localhost:8080/",
          "height": 295
        }
      },
      "source": [
        "x_grid = np.arange(min(x), max(x), 0.01)\n",
        "x_grid = x_grid.reshape((len(x_grid), 1))\n",
        "plt.scatter(x, y, color = 'red')\n",
        "plt.plot(x_grid, regressor.predict(x_grid), color = 'blue')\n",
        "plt.title('Truth or Bluff (Decision Tree Regression)')\n",
        "plt.xlabel('Position level')\n",
        "plt.ylabel('Salary')\n",
        "plt.show()"
      ],
      "execution_count": null,
      "outputs": [
        {
          "output_type": "display_data",
          "data": {
            "text/plain": [
              "<Figure size 432x288 with 1 Axes>"
            ],
            "image/png": "[encoded data removed]"
          },
          "metadata": {
            "needs_background": "light"
          }
        }
      ]
    },
    {
      "cell_type": "markdown",
      "source": [
        "\n",
        "\n",
        "---\n",
        "\n",
        "\n",
        "\n",
        "---\n",
        "\n"
      ],
      "metadata": {
        "id": "wNCYyKwp34xu"
      }
    },
    {
      "cell_type": "markdown",
      "source": [
        "# IV. Random Forest Regression"
      ],
      "metadata": {
        "id": "d8Jt73IO34xw"
      }
    },
    {
      "cell_type": "markdown",
      "metadata": {
        "id": "v4S2fyIBYDcu"
      },
      "source": [
        "## Training the Random Forest Regression model on the whole dataset"
      ]
    },
    {
      "cell_type": "code",
      "metadata": {
        "id": "o8dOCoJ1YKMc",
        "outputId": "191188b8-ab73-4d0a-8ba0-e515e9bffa69",
        "colab": {
          "base_uri": "https://localhost:8080/"
        }
      },
      "source": [
        "from sklearn.ensemble import RandomForestRegressor\n",
        "my_RandomForestRegressor = RandomForestRegressor(n_estimators = 10, random_state = 0)\n",
        "my_RandomForestRegressor.fit(x, y)"
      ],
      "execution_count": null,
      "outputs": [
        {
          "output_type": "stream",
          "name": "stderr",
          "text": [
            "/usr/local/lib/python3.7/dist-packages/ipykernel_launcher.py:3: DataConversionWarning: A column-vector y was passed when a 1d array was expected. Please change the shape of y to (n_samples,), for example using ravel().\n",
            "  This is separate from the ipykernel package so we can avoid doing imports until\n"
          ]
        },
        {
          "output_type": "execute_result",
          "data": {
            "text/plain": [
              "RandomForestRegressor(n_estimators=10, random_state=0)"
            ]
          },
          "metadata": {},
          "execution_count": 75
        }
      ]
    },
    {
      "cell_type": "markdown",
      "metadata": {
        "id": "8IbsXbK3YM4M"
      },
      "source": [
        "## Predicting a new result"
      ]
    },
    {
      "cell_type": "code",
      "metadata": {
        "id": "pTXrS8FEYQlJ",
        "colab": {
          "base_uri": "https://localhost:8080/"
        },
        "outputId": "49c804bb-7e0c-49b6-f2f0-2b1a2c634dce"
      },
      "source": [
        "my_RandomForestRegressor.predict([[6.5]])"
      ],
      "execution_count": null,
      "outputs": [
        {
          "output_type": "execute_result",
          "data": {
            "text/plain": [
              "array([167000.])"
            ]
          },
          "metadata": {},
          "execution_count": 76
        }
      ]
    },
    {
      "cell_type": "markdown",
      "metadata": {
        "id": "kLqF9yMbYTon"
      },
      "source": [
        "## Visualising the Random Forest Regression results (higher resolution)"
      ]
    },
    {
      "cell_type": "code",
      "metadata": {
        "id": "BMlTBifVYWNr",
        "outputId": "e59b5b69-68a0-4a63-b9f2-8e9be12fe2e4",
        "colab": {
          "base_uri": "https://localhost:8080/",
          "height": 295
        }
      },
      "source": [
        "x_grid = np.arange(min(x), max(x), 0.01)\n",
        "x_grid = x_grid.reshape((len(x_grid), 1))\n",
        "plt.scatter(x, y, color = 'red')\n",
        "plt.plot(x_grid, regressor.predict(x_grid), color = 'blue')\n",
        "plt.title('Truth or Bluff (Random Forest Regression)')\n",
        "plt.xlabel('Position level')\n",
        "plt.ylabel('Salary')\n",
        "plt.show()"
      ],
      "execution_count": null,
      "outputs": [
        {
          "output_type": "display_data",
          "data": {
            "text/plain": [
              "<Figure size 432x288 with 1 Axes>"
            ],
            "image/png": "[encoded data removed]"
          },
          "metadata": {
            "needs_background": "light"
          }
        }
      ]
    }
  ]
}