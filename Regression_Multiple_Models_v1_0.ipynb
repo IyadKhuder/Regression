{
  "nbformat": 4,
  "nbformat_minor": 0,
  "metadata": {
    "colab": {
      "provenance": [],
      "include_colab_link": true
    },
    "kernelspec": {
      "name": "python3",
      "display_name": "Python 3"
    }
  },
  "cells": [
    {
      "cell_type": "markdown",
      "metadata": {
        "id": "view-in-github",
        "colab_type": "text"
      },
      "source": [
        "<a href=\"https://colab.research.google.com/github/IyadKhuder/Regression_Multiple_Models/blob/main/Regression_Multiple_Models_v1_0.ipynb\" target=\"_parent\"><img src=\"https://colab.research.google.com/assets/colab-badge.svg\" alt=\"Open In Colab\"/></a>"
      ]
    },
    {
      "cell_type": "markdown",
      "source": [
        "##In this Notebook, I'm covering the following models: \n",
        "\n",
        "I.   Linear & Polynomial Regression \n",
        "\n",
        "II.   SVR\n",
        "\n",
        "III. Decision Tree\n",
        "\n",
        "IV. Random Forest Regression"
      ],
      "metadata": {
        "id": "s_CIwDo00g_d"
      }
    },
    {
      "cell_type": "markdown",
      "source": [
        "## Case-study: \n",
        "An applicant for the job position \"ML engineer\" at IDC claimed that his previous gross salary per annum was $65k. Based on his CV, he is in the midway between junior and senior ML engineer.*\n",
        "\n",
        "Given the data sample of salary averages as a fenction of the position rankings, we're going to predict whether each of the two applicants is honest or bluffing.\n",
        " 🤔\n",
        "\n",
        "*Let's build a ML model that estimates the salary of that applicant, and predicts whether he was honest or just bluffing.*"
      ],
      "metadata": {
        "id": "nEPxXTnwMcjh"
      }
    },
    {
      "cell_type": "markdown",
      "source": [
        "\n",
        "\n",
        "---\n",
        "\n"
      ],
      "metadata": {
        "id": "3HjpZ_WC26rC"
      }
    },
    {
      "cell_type": "markdown",
      "metadata": {
        "id": "EoRP98MpR-qj"
      },
      "source": [
        "## Importing main libraries"
      ]
    },
    {
      "cell_type": "code",
      "source": [
        "import numpy as np\n",
        "import matplotlib.pyplot as plt\n",
        "import pandas as pd"
      ],
      "metadata": {
        "id": "EL6x9mr6dtGP"
      },
      "execution_count": 2,
      "outputs": []
    },
    {
      "cell_type": "markdown",
      "metadata": {
        "id": "fvBljkDj2pUN"
      },
      "source": [
        "## importing the dataset"
      ]
    },
    {
      "cell_type": "markdown",
      "metadata": {
        "id": "_6rDd_I3V-nd"
      },
      "source": [
        "### a) *Importing Google-Drive relevant libraries*"
      ]
    },
    {
      "cell_type": "code",
      "source": [
        "# libraries for the files in google drive\n",
        "from pydrive.auth import GoogleAuth\n",
        "from google.colab import drive\n",
        "from pydrive.drive import GoogleDrive\n",
        "from google.colab import auth\n",
        "from oauth2client.client import GoogleCredentials"
      ],
      "metadata": {
        "id": "4VY1J-m4fSeB"
      },
      "execution_count": 3,
      "outputs": []
    },
    {
      "cell_type": "markdown",
      "metadata": {
        "id": "PXW_OZhkWv74"
      },
      "source": [
        "### b) *Connecting to Google-Drive and importing the dataset file*"
      ]
    },
    {
      "cell_type": "code",
      "source": [
        "auth.authenticate_user()\n",
        "gauth = GoogleAuth()\n",
        "gauth.credentials = GoogleCredentials.get_application_default()\n",
        "drive = GoogleDrive(gauth)\n",
        "\n",
        "file_id = 'google drive file id' #<-- You add in here the id from you google drive file, you can find it\n",
        "\n",
        "\n",
        "# download = drive.CreateFile({'id': '1MXPTJpS5v7W4df5_QGhSklKx9I78ozG-'})\n",
        "download = drive.CreateFile({'id': '1QV96r9r4BqHHXfnURZrSexMAYbuoGLLK'})\n",
        "\n",
        "# Download the file to a local disc\n",
        "download.GetContentFile('Salaries_Position.csv')\n"
      ],
      "metadata": {
        "id": "vvz_iIB0ULje"
      },
      "execution_count": 39,
      "outputs": []
    },
    {
      "cell_type": "markdown",
      "metadata": {
        "id": "JjQJmIeVXI6X"
      },
      "source": [
        "### c) *Storing the dataset in a dataframe and verifying that we access it*"
      ]
    },
    {
      "cell_type": "code",
      "source": [
        "df  = pd.read_csv(\"Salaries_Position.csv\")\n",
        "print(df)"
      ],
      "metadata": {
        "colab": {
          "base_uri": "https://localhost:8080/"
        },
        "id": "mEECiqIKXDeQ",
        "outputId": "a2173caf-f4ce-4ae7-c70a-6fbe89e1ea63"
      },
      "execution_count": 40,
      "outputs": [
        {
          "output_type": "stream",
          "name": "stdout",
          "text": [
            "                Position  Level  Gross_Salary_per_annum in USD\n",
            "0     Internship Trainee      1                          17000\n",
            "1    Junior Data Analyst      2                          38000\n",
            "2  Junior Data Scientist      3                          52000\n",
            "3         Senior Analyst      4                          58000\n",
            "4     Junior ML Engineer      5                          48000\n",
            "5     Senior ML Engineer      6                          65000\n",
            "6            Team Leader      7                          72000\n",
            "7        Project Manager      8                          92000\n",
            "8                    CEO      9                         158000\n",
            "9      Founder and owner     10                         299000\n"
          ]
        }
      ]
    },
    {
      "cell_type": "markdown",
      "metadata": {
        "id": "3zlC9L2YXnKQ"
      },
      "source": [
        "### d) *Extracting the input and output fields*"
      ]
    },
    {
      "cell_type": "code",
      "source": [
        "x= df.iloc[:,1:-1].values\n",
        "y= df.iloc[:,-1].values"
      ],
      "metadata": {
        "id": "ZPsrpvqGkFyS"
      },
      "execution_count": 41,
      "outputs": []
    },
    {
      "cell_type": "markdown",
      "metadata": {
        "id": "MTgk_2pWmusP"
      },
      "source": [
        "### e) *Setting the printing options, so numbers are printed as whole numbers, withough scientific format or decimal digits.*"
      ]
    },
    {
      "cell_type": "code",
      "source": [
        "np.set_printoptions(suppress=True)\n",
        "np.set_printoptions(precision=6)\n",
        "np.set_printoptions(formatter={'float': '{: 0.0f}'.format})"
      ],
      "metadata": {
        "id": "EJ68wRkYeRL2"
      },
      "execution_count": 7,
      "outputs": []
    },
    {
      "cell_type": "markdown",
      "metadata": {
        "id": "rCZo6EAWnaJv"
      },
      "source": [
        "### f) *Preview*"
      ]
    },
    {
      "cell_type": "code",
      "source": [
        "print(x)"
      ],
      "metadata": {
        "colab": {
          "base_uri": "https://localhost:8080/"
        },
        "id": "ixfjlAlJng_O",
        "outputId": "7a9476e0-34a1-46a3-aaf7-ca18feec8fdd"
      },
      "execution_count": 42,
      "outputs": [
        {
          "output_type": "stream",
          "name": "stdout",
          "text": [
            "[[ 1]\n",
            " [ 2]\n",
            " [ 3]\n",
            " [ 4]\n",
            " [ 5]\n",
            " [ 6]\n",
            " [ 7]\n",
            " [ 8]\n",
            " [ 9]\n",
            " [10]]\n"
          ]
        }
      ]
    },
    {
      "cell_type": "code",
      "source": [
        "print(y)"
      ],
      "metadata": {
        "colab": {
          "base_uri": "https://localhost:8080/"
        },
        "id": "RhnlHJyRnnrN",
        "outputId": "ab7a7a8a-fd81-48fb-d815-e4d1672dc94d"
      },
      "execution_count": 43,
      "outputs": [
        {
          "output_type": "stream",
          "name": "stdout",
          "text": [
            "[ 17000  38000  52000  58000  48000  65000  72000  92000 158000 299000]\n"
          ]
        }
      ]
    },
    {
      "cell_type": "markdown",
      "metadata": {
        "id": "vN99YjPTDena"
      },
      "source": [
        "# I. Linear & Polynomial Regression"
      ]
    },
    {
      "cell_type": "markdown",
      "metadata": {
        "id": "4JyoqVLAe8dS"
      },
      "source": [
        "Training the Linear Regression model on the whole dataset"
      ]
    },
    {
      "cell_type": "code",
      "source": [
        "from sklearn.linear_model import LinearRegression\n",
        "lin_reg = LinearRegression()\n",
        "lin_reg.fit(x, y)"
      ],
      "metadata": {
        "colab": {
          "base_uri": "https://localhost:8080/"
        },
        "id": "JCP-2p1KioGJ",
        "outputId": "f0ef21af-e9ca-46ac-ce99-4b1aed2f88a3"
      },
      "execution_count": 44,
      "outputs": [
        {
          "output_type": "execute_result",
          "data": {
            "text/plain": [
              "LinearRegression()"
            ]
          },
          "metadata": {},
          "execution_count": 44
        }
      ]
    },
    {
      "cell_type": "markdown",
      "metadata": {
        "id": "Rb5nWuSHEfBV"
      },
      "source": [
        "Training the Polynomial Regression model on the whole dataset"
      ]
    },
    {
      "cell_type": "markdown",
      "source": [
        "a) For deg = 3"
      ],
      "metadata": {
        "id": "JffkTHk3qGA9"
      }
    },
    {
      "cell_type": "code",
      "source": [
        "from sklearn.preprocessing import PolynomialFeatures\n",
        "poly_reg_3 = PolynomialFeatures(degree=3)\n",
        "x_poly_3 = poly_reg_3.fit_transform(x)"
      ],
      "metadata": {
        "id": "Y6D0JJgAljbl"
      },
      "execution_count": 45,
      "outputs": []
    },
    {
      "cell_type": "code",
      "source": [
        "print(x_poly_3[:,2])"
      ],
      "metadata": {
        "colab": {
          "base_uri": "https://localhost:8080/"
        },
        "id": "WFUuKJJAph08",
        "outputId": "9dc53308-c9fd-4ff6-af66-ae08e4660e18"
      },
      "execution_count": 46,
      "outputs": [
        {
          "output_type": "stream",
          "name": "stdout",
          "text": [
            "[ 1  4  9  16  25  36  49  64  81  100]\n"
          ]
        }
      ]
    },
    {
      "cell_type": "code",
      "source": [
        "x1_3 = x_poly_3[:,1]\n",
        "x2_3 = x_poly_3[:,2]\n",
        "x3_3 = x_poly_3[:,3]"
      ],
      "metadata": {
        "id": "TgItJv3tp8KH"
      },
      "execution_count": 47,
      "outputs": []
    },
    {
      "cell_type": "markdown",
      "source": [
        "The trick for the polynomila regression model is that it is converted into a multiple Linear Regression, where the powers of x are symbolized as multiple variables \"features\""
      ],
      "metadata": {
        "id": "4ChQtxb6s170"
      }
    },
    {
      "cell_type": "code",
      "source": [
        "lin_reg_3 = LinearRegression()\n",
        "lin_reg_3.fit(x_poly_3, y)"
      ],
      "metadata": {
        "colab": {
          "base_uri": "https://localhost:8080/"
        },
        "id": "vNy1G8Ecs171",
        "outputId": "05e052cd-c2ec-4bc2-f51d-4c9c3d336967"
      },
      "execution_count": 48,
      "outputs": [
        {
          "output_type": "execute_result",
          "data": {
            "text/plain": [
              "LinearRegression()"
            ]
          },
          "metadata": {},
          "execution_count": 48
        }
      ]
    },
    {
      "cell_type": "markdown",
      "source": [
        "b) For deg = 5"
      ],
      "metadata": {
        "id": "UcdWIz8wqM5G"
      }
    },
    {
      "cell_type": "code",
      "source": [
        "from sklearn.preprocessing import PolynomialFeatures\n",
        "poly_reg_5 = PolynomialFeatures(degree=5)\n",
        "x_poly_5 = poly_reg_5.fit_transform(x)"
      ],
      "metadata": {
        "id": "18Q94z-OqM5H"
      },
      "execution_count": 49,
      "outputs": []
    },
    {
      "cell_type": "code",
      "source": [
        "print(x_poly_5[:,2])"
      ],
      "metadata": {
        "colab": {
          "base_uri": "https://localhost:8080/"
        },
        "outputId": "45bd42f9-8ad9-4631-adfe-0c894f73f819",
        "id": "LGBEu7MUqM5H"
      },
      "execution_count": 50,
      "outputs": [
        {
          "output_type": "stream",
          "name": "stdout",
          "text": [
            "[ 1  4  9  16  25  36  49  64  81  100]\n"
          ]
        }
      ]
    },
    {
      "cell_type": "code",
      "source": [
        "x1_5 = x_poly_5[:,1]\n",
        "x2_5 = x_poly_5[:,2]\n",
        "x3_5 = x_poly_5[:,3]"
      ],
      "metadata": {
        "id": "nGpCCcJPqM5I"
      },
      "execution_count": 51,
      "outputs": []
    },
    {
      "cell_type": "code",
      "source": [
        "lin_reg_5 = LinearRegression()\n",
        "lin_reg_5.fit(x_poly_5, y)"
      ],
      "metadata": {
        "colab": {
          "base_uri": "https://localhost:8080/"
        },
        "id": "1r5TcVt4sVDP",
        "outputId": "8e4c9ccd-6def-4cf6-dbde-da8c2ded67c7"
      },
      "execution_count": 52,
      "outputs": [
        {
          "output_type": "execute_result",
          "data": {
            "text/plain": [
              "LinearRegression()"
            ]
          },
          "metadata": {},
          "execution_count": 52
        }
      ]
    },
    {
      "cell_type": "markdown",
      "source": [
        "c) For deg = 7"
      ],
      "metadata": {
        "id": "A_YhZC1P0kGL"
      }
    },
    {
      "cell_type": "code",
      "source": [
        "from sklearn.preprocessing import PolynomialFeatures\n",
        "poly_reg_7 = PolynomialFeatures(degree=7)\n",
        "x_poly_7 = poly_reg_7.fit_transform(x)"
      ],
      "metadata": {
        "id": "NCwGiYxL0kGY"
      },
      "execution_count": 53,
      "outputs": []
    },
    {
      "cell_type": "code",
      "source": [
        "print(x_poly_7[:,2])"
      ],
      "metadata": {
        "colab": {
          "base_uri": "https://localhost:8080/"
        },
        "outputId": "5c69d510-4245-438f-bdb1-2636aadc7739",
        "id": "K8nJAexq0kGY"
      },
      "execution_count": 54,
      "outputs": [
        {
          "output_type": "stream",
          "name": "stdout",
          "text": [
            "[ 1  4  9  16  25  36  49  64  81  100]\n"
          ]
        }
      ]
    },
    {
      "cell_type": "code",
      "source": [
        "x1_7 = x_poly_7[:,1]\n",
        "x2_7 = x_poly_7[:,2]\n",
        "x3_7 = x_poly_7[:,3]"
      ],
      "metadata": {
        "id": "FoGcbsVb0kGZ"
      },
      "execution_count": 55,
      "outputs": []
    },
    {
      "cell_type": "code",
      "source": [
        "lin_reg_7 = LinearRegression()\n",
        "lin_reg_7.fit(x_poly_7, y)"
      ],
      "metadata": {
        "colab": {
          "base_uri": "https://localhost:8080/"
        },
        "outputId": "3e9e107f-f3f7-4f44-cfb9-11e89930a258",
        "id": "DeYEc4be0kGZ"
      },
      "execution_count": 56,
      "outputs": [
        {
          "output_type": "execute_result",
          "data": {
            "text/plain": [
              "LinearRegression()"
            ]
          },
          "metadata": {},
          "execution_count": 56
        }
      ]
    },
    {
      "cell_type": "markdown",
      "metadata": {
        "id": "stOnSo74E52m"
      },
      "source": [
        "## Visualising Linear & Polynomial Regression models all together for comparison"
      ]
    },
    {
      "cell_type": "markdown",
      "source": [
        "Having tried degrees 3, 5 and 7, I'm going to just display the graphs for degrees 3 and 7. The graphs of the two degrees 5 and 7 aren't much different, so one of them suffices."
      ],
      "metadata": {
        "id": "3K_ivZtT3g02"
      }
    },
    {
      "cell_type": "code",
      "source": [
        "# plotting the real points of the dataset:\n",
        "plt.scatter(x, y, color = 'black')\n",
        "\n",
        "# plotting the linear model, as predicted by the trained LinearRegression:\n",
        "y_predict = lin_reg.predict(x)\n",
        "plt.plot(x, y_predict, color = 'grey', linestyle='dashed', label='Linear')\n",
        "\n",
        "# plotting the polynomial model of 3rd degree, \n",
        "y_predict_3 = lin_reg_3.predict(x_poly_3)\n",
        "plt.plot(x, y_predict_3, color = 'red', linestyle='dashed', label='Polynomial of 3rd deg.')\n",
        "\n",
        "# # plotting the polynomial model of 5th degree, \n",
        "# y_predict_5 = lin_reg_5.predict(x_poly_5)\n",
        "# plt.plot(x, y_predict_5, color = 'blue', label='Polynomial of 5th deg. (more accurate)')\n",
        "\n",
        "\n",
        "# plotting the polynomial model of 7th degree, \n",
        "y_predict_7 = lin_reg_7.predict(x_poly_7)\n",
        "plt.plot(x, y_predict_7, color = 'blue', label='Polynomial of 7th deg. (the most accurate)')\n",
        "\n",
        "plt.title('Truth or bluf? - Linear vs. Polynomial Regression')\n",
        "plt.xlabel('Job position level')\n",
        "plt.ylabel('Salary')\n",
        "plt.legend()\n",
        "plt.show()"
      ],
      "metadata": {
        "colab": {
          "base_uri": "https://localhost:8080/",
          "height": 295
        },
        "id": "w8VpjFvw52Tq",
        "outputId": "05e2ca2d-9237-4cea-dcc1-c132f52d53c6"
      },
      "execution_count": 58,
      "outputs": [
        {
          "output_type": "display_data",
          "data": {
            "text/plain": [
              "<Figure size 432x288 with 1 Axes>"
            ],
            "image/png": "[encoded data removed]"
          },
          "metadata": {
            "needs_background": "light"
          }
        }
      ]
    },
    {
      "cell_type": "markdown",
      "source": [
        "We notice the the polynomial model of 5th degree is the best fit of the graph. However, we should be mindful of the risk of falling into the trap pf an overfitting model."
      ],
      "metadata": {
        "id": "TNH8S59lt88M"
      }
    },
    {
      "cell_type": "markdown",
      "metadata": {
        "id": "diyJFZHhFFeK"
      },
      "source": [
        "## Predicting the salary based on the Linear Regression"
      ]
    },
    {
      "cell_type": "code",
      "source": [
        "np.set_printoptions(precision=2)"
      ],
      "metadata": {
        "id": "LwP_htXUsUIy"
      },
      "execution_count": 59,
      "outputs": []
    },
    {
      "cell_type": "code",
      "source": [
        "x0 = [[5.5]]"
      ],
      "metadata": {
        "id": "7Sjz1LhkrLgY"
      },
      "execution_count": 60,
      "outputs": []
    },
    {
      "cell_type": "code",
      "source": [
        "y0_lin = lin_reg.predict(x0)"
      ],
      "metadata": {
        "id": "Zi8CzMqjr8nn"
      },
      "execution_count": 61,
      "outputs": []
    },
    {
      "cell_type": "code",
      "source": [
        "print(y0_lin)"
      ],
      "metadata": {
        "colab": {
          "base_uri": "https://localhost:8080/"
        },
        "id": "hgyvhfH--xAf",
        "outputId": "ccd015b8-d881-48a9-c70d-af9a487a03d8"
      },
      "execution_count": 62,
      "outputs": [
        {
          "output_type": "stream",
          "name": "stdout",
          "text": [
            "[89900.]\n"
          ]
        }
      ]
    },
    {
      "cell_type": "markdown",
      "source": [
        "**Outcome:** \n",
        "\n",
        "According to the linear regression model, a salary of $65k is very modest for such an engineer and he deserves much more than that! 😇"
      ],
      "metadata": {
        "id": "ONgf5UjwI77Y"
      }
    },
    {
      "cell_type": "markdown",
      "metadata": {
        "id": "DW7I7ZVDFNkk"
      },
      "source": [
        "## Predicting the salary based on the Polynomial Regression"
      ]
    },
    {
      "cell_type": "code",
      "source": [
        "x0_pol = poly_reg_7.fit_transform(x0)"
      ],
      "metadata": {
        "id": "RoPaD5FGslYE"
      },
      "execution_count": 66,
      "outputs": []
    },
    {
      "cell_type": "code",
      "source": [
        "y7_pol = lin_reg_7.predict(x0_pol)"
      ],
      "metadata": {
        "id": "R4pj6BQis4zz"
      },
      "execution_count": 79,
      "outputs": []
    },
    {
      "cell_type": "code",
      "source": [
        "print(y7_pol)"
      ],
      "metadata": {
        "colab": {
          "base_uri": "https://localhost:8080/"
        },
        "id": "ScRE4_mZ-6Az",
        "outputId": "3d75a962-8448-4bdf-cf55-bd88e6b7a13e"
      },
      "execution_count": 80,
      "outputs": [
        {
          "output_type": "stream",
          "name": "stdout",
          "text": [
            "[57004.88]\n"
          ]
        }
      ]
    },
    {
      "cell_type": "markdown",
      "source": [
        "**Outcome:** \n",
        "\n",
        "According to the polynomial regression model of 7th degree (which is much more accurate than the linear one), the estmated salary for this applicant is approx. $57 thousands, which is pretty lower than the number claimed by the applicant, and this means that he's likely to be bluffing 🤥"
      ],
      "metadata": {
        "id": "Fy_SNEMXh8Xh"
      }
    },
    {
      "cell_type": "markdown",
      "source": [
        "## **Conclusion:** \n",
        "\n",
        "For non-monotone data, which has severe fluctuations, that is, in mathematical words, outstanding local minimum/maximum points, the linear regression fails and it's needed to use a more sophisticated model, such as the polynomial one. \n",
        "\n",
        "It's noticed that the polynomial model of 7th degree beats its counterpart of 3rd degree at several points, such as at x=6.\n",
        "\n",
        "However, we should carefully select the optimal degree. Sometimes, going a too high degree may result in overfitting, which will have a negative impact on the prediction of new values.\n"
      ],
      "metadata": {
        "id": "hYD5TTl5JjnI"
      }
    },
    {
      "cell_type": "markdown",
      "source": [
        "\n",
        "\n",
        "---\n",
        "\n",
        "\n",
        "\n",
        "---\n",
        "\n"
      ],
      "metadata": {
        "id": "__4ER9pjwhf4"
      }
    },
    {
      "cell_type": "markdown",
      "metadata": {
        "id": "m3PAEPRDRLA3"
      },
      "source": [
        "# II. Support Vector Regression (SVR)"
      ]
    },
    {
      "cell_type": "markdown",
      "metadata": {
        "id": "piJwIv7NwwWv"
      },
      "source": [
        "*Data Preprocessing*"
      ]
    },
    {
      "cell_type": "markdown",
      "metadata": {
        "id": "YS8FeLHYS-nI"
      },
      "source": [
        "Feature Scaling"
      ]
    },
    {
      "cell_type": "code",
      "source": [
        "y.shape"
      ],
      "metadata": {
        "colab": {
          "base_uri": "https://localhost:8080/"
        },
        "id": "JfCTSX6RyDQJ",
        "outputId": "d1c8de88-7783-42cc-d896-a151a0a6c0f9"
      },
      "execution_count": null,
      "outputs": [
        {
          "output_type": "execute_result",
          "data": {
            "text/plain": [
              "(10, 1)"
            ]
          },
          "metadata": {},
          "execution_count": 150
        }
      ]
    },
    {
      "cell_type": "code",
      "source": [
        "y=y.reshape(len(y),1)\n",
        "y.shape"
      ],
      "metadata": {
        "colab": {
          "base_uri": "https://localhost:8080/"
        },
        "id": "3ZKc77wayFXh",
        "outputId": "66b73213-50fa-4db9-e978-62c4dc429b82"
      },
      "execution_count": null,
      "outputs": [
        {
          "output_type": "execute_result",
          "data": {
            "text/plain": [
              "(10, 1)"
            ]
          },
          "metadata": {},
          "execution_count": 151
        }
      ]
    },
    {
      "cell_type": "markdown",
      "source": [
        "Note: without the above command\n",
        ", we'd get the error\n",
        "<br> \"Expected 2D array, got 1D array instead\"\n",
        " <br>  for the y array y, when we try the command \n",
        "<br> y_scaled = sc_y.fit_transform(y)\n",
        "<br> in the cell below\n",
        " "
      ],
      "metadata": {
        "id": "vhxWVLsjxsaj"
      }
    },
    {
      "cell_type": "code",
      "source": [
        "from sklearn.preprocessing import StandardScaler\n",
        "sc_x = StandardScaler()\n",
        "x_scaled = sc_x.fit_transform(x)\n",
        "sc_y = StandardScaler()\n",
        "y_scaled = sc_y.fit_transform(y)"
      ],
      "metadata": {
        "id": "sg7U3LKhV6Lo"
      },
      "execution_count": null,
      "outputs": []
    },
    {
      "cell_type": "code",
      "source": [
        "print(x_scaled)"
      ],
      "metadata": {
        "colab": {
          "base_uri": "https://localhost:8080/"
        },
        "id": "y70BAaXgXEUn",
        "outputId": "72679967-e3af-4791-865a-a10d0f86c4e6"
      },
      "execution_count": null,
      "outputs": [
        {
          "output_type": "stream",
          "name": "stdout",
          "text": [
            "[[-2]\n",
            " [-1]\n",
            " [-1]\n",
            " [-1]\n",
            " [-0]\n",
            " [ 0]\n",
            " [ 1]\n",
            " [ 1]\n",
            " [ 1]\n",
            " [ 2]]\n"
          ]
        }
      ]
    },
    {
      "cell_type": "code",
      "source": [
        "print(y_scaled)"
      ],
      "metadata": {
        "colab": {
          "base_uri": "https://localhost:8080/"
        },
        "id": "03i-R317XLk0",
        "outputId": "41a0fb29-6601-451c-8986-6c4df53ed4f6"
      },
      "execution_count": null,
      "outputs": [
        {
          "output_type": "stream",
          "name": "stdout",
          "text": [
            "[[-1]\n",
            " [-1]\n",
            " [-1]\n",
            " [-0]\n",
            " [-0]\n",
            " [-0]\n",
            " [-0]\n",
            " [ 0]\n",
            " [ 1]\n",
            " [ 3]]\n"
          ]
        }
      ]
    },
    {
      "cell_type": "markdown",
      "metadata": {
        "id": "eiU6D2QFRjxY"
      },
      "source": [
        "Training the SVR model on the whole dataset"
      ]
    },
    {
      "cell_type": "code",
      "source": [
        "from sklearn.svm import SVR\n",
        "regressor = SVR(kernel = 'rbf')\n",
        "regressor.fit(x_scaled,y_scaled)"
      ],
      "metadata": {
        "colab": {
          "base_uri": "https://localhost:8080/"
        },
        "id": "ZXLeQzVjXrtG",
        "outputId": "397f9301-2368-4225-dc98-19af837f36a4"
      },
      "execution_count": null,
      "outputs": [
        {
          "output_type": "stream",
          "name": "stderr",
          "text": [
            "/usr/local/lib/python3.7/dist-packages/sklearn/utils/validation.py:993: DataConversionWarning: A column-vector y was passed when a 1d array was expected. Please change the shape of y to (n_samples, ), for example using ravel().\n",
            "  y = column_or_1d(y, warn=True)\n"
          ]
        },
        {
          "output_type": "execute_result",
          "data": {
            "text/plain": [
              "SVR()"
            ]
          },
          "metadata": {},
          "execution_count": 155
        }
      ]
    },
    {
      "cell_type": "markdown",
      "metadata": {
        "id": "deDnDr8UR5vq"
      },
      "source": [
        "*Predicting the output for a single value*"
      ]
    },
    {
      "cell_type": "markdown",
      "source": [
        "The steps to follow here are:\n",
        "\n",
        "\n",
        "1.   Scale the input value (position level = 6.5), using the same object, which was used for x; i.e. sc_x\n",
        "2.   Apply the prediction method on the scaled value\n",
        "2.   The obtained value of y will be in the scaled form. Therefore, we need to apply the inverse transformation on it to get the corresponding value.\n",
        "\n",
        "Important note:\n",
        "For the requested value 6.5,\n",
        "when we want to scale it, we should use the function sc_x.transform to scale it, NOT sc_x.fit_transform\n",
        "if we use the latter one, it will override the original scaling for the array x, and scale it according to 6.5\n",
        "and in that case, the scaled value will be 0, because:\n",
        "for a single value, the mean is the same as the value itself, and therefore, the scaled value will be (6.5-6.5)/sigma = 0\n",
        "\n",
        "\n",
        "\n",
        "\n"
      ],
      "metadata": {
        "id": "64kvxLiTHWZN"
      }
    },
    {
      "cell_type": "code",
      "source": [
        "x0= np.array([[5.5]])"
      ],
      "metadata": {
        "id": "M6LKzCHmTmC0"
      },
      "execution_count": null,
      "outputs": []
    },
    {
      "cell_type": "code",
      "source": [
        "x0_scaled = sc_x.transform(x0)"
      ],
      "metadata": {
        "id": "3gSxu6mqWdM_"
      },
      "execution_count": null,
      "outputs": []
    },
    {
      "cell_type": "code",
      "source": [
        "print(x0_scaled)"
      ],
      "metadata": {
        "colab": {
          "base_uri": "https://localhost:8080/"
        },
        "id": "PuiFCTv4W5wb",
        "outputId": "f40b4052-dd50-4828-e369-1628de45ef59"
      },
      "execution_count": null,
      "outputs": [
        {
          "output_type": "stream",
          "name": "stdout",
          "text": [
            "[[ 0]]\n"
          ]
        }
      ]
    },
    {
      "cell_type": "code",
      "source": [
        "y0_scaled = regressor.predict(x0_scaled)\n",
        "print(y0_scaled)"
      ],
      "metadata": {
        "colab": {
          "base_uri": "https://localhost:8080/"
        },
        "id": "H8Gw-Bz8J-us",
        "outputId": "3c6712ba-79dc-4b20-e8d2-872f61983d16"
      },
      "execution_count": null,
      "outputs": [
        {
          "output_type": "stream",
          "name": "stdout",
          "text": [
            "[-0]\n"
          ]
        }
      ]
    },
    {
      "cell_type": "code",
      "source": [
        "y0 = sc_y.inverse_transform([y0_scaled])\n",
        "print(y0)"
      ],
      "metadata": {
        "colab": {
          "base_uri": "https://localhost:8080/"
        },
        "id": "rKZYQpxKJHVZ",
        "outputId": "57b72595-0bb0-42a0-b5e2-55118a19bc24"
      },
      "execution_count": null,
      "outputs": [
        {
          "output_type": "stream",
          "name": "stdout",
          "text": [
            "[[ 57473]]\n"
          ]
        }
      ]
    },
    {
      "cell_type": "markdown",
      "source": [
        "Note on the scaling:\n",
        "When we scale a sample, all the scaled values will be in the range [approx. -2.7, approx. 2.7],\n",
        "Having applied fit_transform, if we scale a new value, which is beyond the range of the given sample, the scaled value will also be beyond the standard range mentioned above.\n",
        "In ML models, we usually try to find such extreme values.\n",
        "For example, the middle value in the array below, will be scaled to a value that is greater than 10000."
      ],
      "metadata": {
        "id": "yWyi5t4yBOe1"
      }
    },
    {
      "cell_type": "code",
      "source": [
        "x2= np.array([[2,  60000, 7.6]])\n",
        "x2col = np.transpose(x2)\n",
        "# x0col = np.transpose(x0)\n",
        "x2_scaled = sc_x.transform(x2col)\n",
        "print(x2_scaled)"
      ],
      "metadata": {
        "colab": {
          "base_uri": "https://localhost:8080/"
        },
        "id": "C_gMi0AyYoMu",
        "outputId": "fc737e6b-83a1-458a-bc10-1d85bacb60f3"
      },
      "execution_count": null,
      "outputs": [
        {
          "output_type": "stream",
          "name": "stdout",
          "text": [
            "[[-1]\n",
            " [ 20887]\n",
            " [ 1]]\n"
          ]
        }
      ]
    },
    {
      "cell_type": "markdown",
      "metadata": {
        "id": "zzedFlUISSu_"
      },
      "source": [
        "*Visualising the SVR results*"
      ]
    },
    {
      "cell_type": "code",
      "source": [
        "# Getting the predicted values for the y, based on the trained model:\n",
        "y_predict_scaled = regressor.predict(x_scaled)\n",
        "print(y_predict_scaled)\n",
        "\n",
        "\n"
      ],
      "metadata": {
        "colab": {
          "base_uri": "https://localhost:8080/"
        },
        "outputId": "ccdf2a93-0bf1-4d1b-b6d5-54681d015de0",
        "id": "SWqArDgYxBmU"
      },
      "execution_count": null,
      "outputs": [
        {
          "output_type": "stream",
          "name": "stdout",
          "text": [
            "[-1 -1 -1 -0 -0 -0 -0  0  1  1]\n"
          ]
        }
      ]
    },
    {
      "cell_type": "code",
      "source": [
        "y_predict_scaled.shape"
      ],
      "metadata": {
        "colab": {
          "base_uri": "https://localhost:8080/"
        },
        "id": "eiJ0gwa4MSne",
        "outputId": "b79612b3-f8d8-4441-dec5-8b69664bb63c"
      },
      "execution_count": null,
      "outputs": [
        {
          "output_type": "execute_result",
          "data": {
            "text/plain": [
              "(10,)"
            ]
          },
          "metadata": {},
          "execution_count": 164
        }
      ]
    },
    {
      "cell_type": "code",
      "source": [
        "y_predict = sc_y.inverse_transform([y_predict_scaled])\n",
        "y_predict.shape"
      ],
      "metadata": {
        "colab": {
          "base_uri": "https://localhost:8080/"
        },
        "id": "fsiI0HphMluZ",
        "outputId": "ac7f90e3-59d3-4efa-d993-6d498486435e"
      },
      "execution_count": null,
      "outputs": [
        {
          "output_type": "execute_result",
          "data": {
            "text/plain": [
              "(1, 10)"
            ]
          },
          "metadata": {},
          "execution_count": 165
        }
      ]
    },
    {
      "cell_type": "code",
      "source": [
        "y_predict_v = np.transpose(y_predict)"
      ],
      "metadata": {
        "id": "pDObtq5PN5oU"
      },
      "execution_count": null,
      "outputs": []
    },
    {
      "cell_type": "code",
      "source": [
        "y_predict_v.shape"
      ],
      "metadata": {
        "colab": {
          "base_uri": "https://localhost:8080/"
        },
        "id": "oIsdMsZTM2RN",
        "outputId": "5319269a-d593-40ee-b2c3-b49ad058a81a"
      },
      "execution_count": null,
      "outputs": [
        {
          "output_type": "execute_result",
          "data": {
            "text/plain": [
              "(10, 1)"
            ]
          },
          "metadata": {},
          "execution_count": 167
        }
      ]
    },
    {
      "cell_type": "code",
      "source": [
        "# plotting the real points of the dataset:\n",
        "plt.scatter(x, y, color = 'black')\n",
        "# plotting the SVR model, as predicted by the trained SVR Regression:\n",
        "\n",
        "\n",
        "\n",
        "plt.plot(x, y_predict_v, color = 'blue', linestyle='dashed', label='SVR Regression')\n",
        "\n",
        "plt.title('Truth or bluf? ')\n",
        "plt.xlabel('Job position level')\n",
        "plt.ylabel('Salary')\n",
        "plt.legend()\n",
        "plt.show()"
      ],
      "metadata": {
        "colab": {
          "base_uri": "https://localhost:8080/",
          "height": 295
        },
        "id": "SUAy74iuHOcc",
        "outputId": "651c0b7e-d86f-4783-b927-4a1df2e1d457"
      },
      "execution_count": null,
      "outputs": [
        {
          "output_type": "display_data",
          "data": {
            "text/plain": [
              "<Figure size 432x288 with 1 Axes>"
            ],
            "image/png": "[encoded data removed]"
          },
          "metadata": {
            "needs_background": "light"
          }
        }
      ]
    },
    {
      "cell_type": "markdown",
      "source": [
        "\n",
        "\n",
        "---\n",
        "\n",
        "\n",
        "\n",
        "---\n",
        "\n"
      ],
      "metadata": {
        "id": "kz0SkGK63kZQ"
      }
    },
    {
      "cell_type": "markdown",
      "source": [
        "# III. Decision Tree"
      ],
      "metadata": {
        "id": "NaNnMYA63tJT"
      }
    },
    {
      "cell_type": "markdown",
      "metadata": {
        "id": "g16qFkFQVC35"
      },
      "source": [
        "*Training the Decision Tree Regression model on the whole dataset*"
      ]
    },
    {
      "cell_type": "code",
      "metadata": {
        "id": "SLDKyv1SVUqS",
        "outputId": "8286df32-2b22-4cba-8f98-1740c62431a8",
        "colab": {
          "base_uri": "https://localhost:8080/"
        }
      },
      "source": [
        "from sklearn.tree import DecisionTreeRegressor\n",
        "# In the following line, we precise the seed of the random function, so we get the same pattern everytime we run the code\n",
        "TreeRegressor = DecisionTreeRegressor(random_state = 0)\n",
        "TreeRegressor.fit(x, y)"
      ],
      "execution_count": null,
      "outputs": [
        {
          "output_type": "execute_result",
          "data": {
            "text/plain": [
              "DecisionTreeRegressor(random_state=0)"
            ]
          },
          "metadata": {},
          "execution_count": 169
        }
      ]
    },
    {
      "cell_type": "markdown",
      "metadata": {
        "id": "_3FRdl6bje9N"
      },
      "source": [
        "*Predicting the output for a single value*"
      ]
    },
    {
      "cell_type": "code",
      "metadata": {
        "id": "_FpGZf7vVgrK",
        "outputId": "8ba7f210-afd8-4558-f436-fb3e700ca8e6",
        "colab": {
          "base_uri": "https://localhost:8080/"
        }
      },
      "source": [
        "TreeRegressor.predict([[5.5]])"
      ],
      "execution_count": null,
      "outputs": [
        {
          "output_type": "execute_result",
          "data": {
            "text/plain": [
              "array([ 48000])"
            ]
          },
          "metadata": {},
          "execution_count": 170
        }
      ]
    },
    {
      "cell_type": "markdown",
      "metadata": {
        "id": "ph8ExBj0VkIT"
      },
      "source": [
        "*Visualising the Decision Tree Regression results (higher resolution)*"
      ]
    },
    {
      "cell_type": "code",
      "metadata": {
        "id": "zzH1Vv1oVrqe",
        "outputId": "8f3966ec-19c1-497e-9b42-ac80667d27bc",
        "colab": {
          "base_uri": "https://localhost:8080/",
          "height": 295
        }
      },
      "source": [
        "x_grid = np.arange(min(x), max(x), 0.1)\n",
        "x_grid = x_grid.reshape((len(x_grid), 1))\n",
        "plt.scatter(x, y, color = 'red')\n",
        "plt.plot(x_grid, TreeRegressor.predict(x_grid), color = 'blue')\n",
        "plt.title('Truth or Bluff (Decision Tree Regression)')\n",
        "plt.xlabel('Position level')\n",
        "plt.ylabel('Salary')\n",
        "plt.show()"
      ],
      "execution_count": null,
      "outputs": [
        {
          "output_type": "display_data",
          "data": {
            "text/plain": [
              "<Figure size 432x288 with 1 Axes>"
            ],
            "image/png": "[encoded data removed]"
          },
          "metadata": {
            "needs_background": "light"
          }
        }
      ]
    },
    {
      "cell_type": "markdown",
      "source": [
        "\n",
        "\n",
        "---\n",
        "\n",
        "\n",
        "\n",
        "---\n",
        "\n"
      ],
      "metadata": {
        "id": "wNCYyKwp34xu"
      }
    },
    {
      "cell_type": "markdown",
      "source": [
        "# IV. Random Forest Regression"
      ],
      "metadata": {
        "id": "d8Jt73IO34xw"
      }
    },
    {
      "cell_type": "markdown",
      "metadata": {
        "id": "v4S2fyIBYDcu"
      },
      "source": [
        "*Training the Random Forest Regression model on the whole dataset*"
      ]
    },
    {
      "cell_type": "code",
      "metadata": {
        "id": "o8dOCoJ1YKMc",
        "outputId": "af790c5f-d285-424c-ba33-28f44aa7ccc5",
        "colab": {
          "base_uri": "https://localhost:8080/"
        }
      },
      "source": [
        "from sklearn.ensemble import RandomForestRegressor\n",
        "my_RandomForestRegressor = RandomForestRegressor(n_estimators = 10, random_state = 0)\n",
        "my_RandomForestRegressor.fit(x, y)"
      ],
      "execution_count": null,
      "outputs": [
        {
          "output_type": "stream",
          "name": "stderr",
          "text": [
            "/usr/local/lib/python3.7/dist-packages/ipykernel_launcher.py:3: DataConversionWarning: A column-vector y was passed when a 1d array was expected. Please change the shape of y to (n_samples,), for example using ravel().\n",
            "  This is separate from the ipykernel package so we can avoid doing imports until\n"
          ]
        },
        {
          "output_type": "execute_result",
          "data": {
            "text/plain": [
              "RandomForestRegressor(n_estimators=10, random_state=0)"
            ]
          },
          "metadata": {},
          "execution_count": 177
        }
      ]
    },
    {
      "cell_type": "markdown",
      "metadata": {
        "id": "BzDueChsjmbu"
      },
      "source": [
        "*Predicting the output for a single value*"
      ]
    },
    {
      "cell_type": "code",
      "metadata": {
        "id": "pTXrS8FEYQlJ",
        "colab": {
          "base_uri": "https://localhost:8080/"
        },
        "outputId": "d7203571-4efb-4c2a-a910-b0a097545e1a"
      },
      "source": [
        "my_RandomForestRegressor.predict([[5.5]])"
      ],
      "execution_count": null,
      "outputs": [
        {
          "output_type": "execute_result",
          "data": {
            "text/plain": [
              "array([ 49400])"
            ]
          },
          "metadata": {},
          "execution_count": 173
        }
      ]
    },
    {
      "cell_type": "markdown",
      "metadata": {
        "id": "kLqF9yMbYTon"
      },
      "source": [
        "*Visualising the Random Forest Regression results (higher resolution)*"
      ]
    },
    {
      "cell_type": "code",
      "metadata": {
        "id": "BMlTBifVYWNr",
        "outputId": "7cc70d4a-9b6e-4594-e871-fb8902abb30b",
        "colab": {
          "base_uri": "https://localhost:8080/",
          "height": 295
        }
      },
      "source": [
        "x_grid = np.arange(min(x), max(x), 0.01)\n",
        "x_grid = x_grid.reshape((len(x_grid), 1))\n",
        "plt.scatter(x, y, color = 'red')\n",
        "plt.plot(x_grid, my_RandomForestRegressor.predict(x_grid), color = 'blue')\n",
        "plt.title('Truth or Bluff (Random Forest Regression)')\n",
        "plt.xlabel('Position level')\n",
        "plt.ylabel('Salary')\n",
        "plt.show()"
      ],
      "execution_count": null,
      "outputs": [
        {
          "output_type": "display_data",
          "data": {
            "text/plain": [
              "<Figure size 432x288 with 1 Axes>"
            ],
            "image/png": "[encoded data removed]"
          },
          "metadata": {
            "needs_background": "light"
          }
        }
      ]
    }
  ]
}