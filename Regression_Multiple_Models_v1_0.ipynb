{
  "nbformat": 4,
  "nbformat_minor": 0,
  "metadata": {
    "colab": {
      "provenance": [],
      "include_colab_link": true
    },
    "kernelspec": {
      "name": "python3",
      "display_name": "Python 3"
    }
  },
  "cells": [
    {
      "cell_type": "markdown",
      "metadata": {
        "id": "view-in-github",
        "colab_type": "text"
      },
      "source": [
        "<a href=\"https://colab.research.google.com/github/IyadKhuder/Regression_Multiple_Models/blob/main/Regression_Multiple_Models_v1_0.ipynb\" target=\"_parent\"><img src=\"https://colab.research.google.com/assets/colab-badge.svg\" alt=\"Open In Colab\"/></a>"
      ]
    },
    {
      "cell_type": "markdown",
      "source": [
        "In this Notebook, I'm covering the following models: \n",
        "# I.    Polynomial Regression \n",
        "# II.   SVR\n",
        "# III. Decision Tree\n",
        "# IV. Random Forest Regression"
      ],
      "metadata": {
        "id": "s_CIwDo00g_d"
      }
    },
    {
      "cell_type": "markdown",
      "source": [
        "\n",
        "\n",
        "---\n",
        "\n"
      ],
      "metadata": {
        "id": "3HjpZ_WC26rC"
      }
    },
    {
      "cell_type": "markdown",
      "source": [
        "## Case-study: \n",
        "*An applicant for the job position \"ML engineer\" at IDC claimed that his previous gross salary per annum was $65k, given that he worked as a junior ML engineer for 1.5 year and he is assessed to be in the midway between junior and senior ML engineer.*\n",
        "\n",
        "*Given the data sample of salary averages as a fenction of the position rankings, is he honest or this is a bluff?* \n",
        " 🙄 \n",
        "\n",
        "*Let's build a ML model that estimates the salary of that applicant, and predicts whether he was honest or just bluffing.*"
      ],
      "metadata": {
        "id": "nEPxXTnwMcjh"
      }
    },
    {
      "cell_type": "markdown",
      "metadata": {
        "id": "EoRP98MpR-qj"
      },
      "source": [
        "## **Importing main libraries**"
      ]
    },
    {
      "cell_type": "code",
      "source": [
        "import numpy as np\n",
        "import matplotlib.pyplot as plt\n",
        "import pandas as pd"
      ],
      "metadata": {
        "id": "EL6x9mr6dtGP"
      },
      "execution_count": 1,
      "outputs": []
    },
    {
      "cell_type": "markdown",
      "metadata": {
        "id": "fvBljkDj2pUN"
      },
      "source": [
        "## **importing the dataset**"
      ]
    },
    {
      "cell_type": "markdown",
      "metadata": {
        "id": "_6rDd_I3V-nd"
      },
      "source": [
        "### a) Importing Google-Drive relevant libraries"
      ]
    },
    {
      "cell_type": "code",
      "source": [
        "# libraries for the files in google drive\n",
        "from pydrive.auth import GoogleAuth\n",
        "from google.colab import drive\n",
        "from pydrive.drive import GoogleDrive\n",
        "from google.colab import auth\n",
        "from oauth2client.client import GoogleCredentials"
      ],
      "metadata": {
        "id": "4VY1J-m4fSeB"
      },
      "execution_count": 2,
      "outputs": []
    },
    {
      "cell_type": "markdown",
      "metadata": {
        "id": "PXW_OZhkWv74"
      },
      "source": [
        "### b) Connecting to Google-Drive and importing the dataset file"
      ]
    },
    {
      "cell_type": "code",
      "source": [
        "auth.authenticate_user()\n",
        "gauth = GoogleAuth()\n",
        "gauth.credentials = GoogleCredentials.get_application_default()\n",
        "drive = GoogleDrive(gauth)\n",
        "\n",
        "file_id = 'google drive file id' #<-- You add in here the id from you google drive file, you can find it\n",
        "\n",
        "\n",
        "# download = drive.CreateFile({'id': '1MXPTJpS5v7W4df5_QGhSklKx9I78ozG-'})\n",
        "download = drive.CreateFile({'id': '1QV96r9r4BqHHXfnURZrSexMAYbuoGLLK'})\n",
        "\n",
        "# Download the file to a local disc\n",
        "download.GetContentFile('salary_vs_position.csv')\n"
      ],
      "metadata": {
        "id": "vvz_iIB0ULje"
      },
      "execution_count": 95,
      "outputs": []
    },
    {
      "cell_type": "markdown",
      "metadata": {
        "id": "JjQJmIeVXI6X"
      },
      "source": [
        "### c) Storing the dataset in a dataframe and verifying that we access it"
      ]
    },
    {
      "cell_type": "code",
      "source": [
        "df  = pd.read_csv(\"salary_vs_position.csv\")\n",
        "df.head()"
      ],
      "metadata": {
        "colab": {
          "base_uri": "https://localhost:8080/",
          "height": 206
        },
        "id": "mEECiqIKXDeQ",
        "outputId": "8aea4f6e-35fa-4811-bc55-aa4e993e4d20"
      },
      "execution_count": 96,
      "outputs": [
        {
          "output_type": "execute_result",
          "data": {
            "text/plain": [
              "             Position  Level  Gross_Salary_per_annum in USD\n",
              "0  Internship Trainee      1                          17000\n",
              "1         Entry-Level      2                          36000\n",
              "2      Junior Analyst      3                          42000\n",
              "3      Senior Analyst      4                          50000\n",
              "4  Junior ML Engineer      5                          48000"
            ],
            "text/html": [
              "\n",
              "  <div id=\"df-e3564e5f-9819-446f-bdef-14b9325464ed\">\n",
              "    <div class=\"colab-df-container\">\n",
              "      <div>\n",
              "<style scoped>\n",
              "    .dataframe tbody tr th:only-of-type {\n",
              "        vertical-align: middle;\n",
              "    }\n",
              "\n",
              "    .dataframe tbody tr th {\n",
              "        vertical-align: top;\n",
              "    }\n",
              "\n",
              "    .dataframe thead th {\n",
              "        text-align: right;\n",
              "    }\n",
              "</style>\n",
              "<table border=\"1\" class=\"dataframe\">\n",
              "  <thead>\n",
              "    <tr style=\"text-align: right;\">\n",
              "      <th></th>\n",
              "      <th>Position</th>\n",
              "      <th>Level</th>\n",
              "      <th>Gross_Salary_per_annum in USD</th>\n",
              "    </tr>\n",
              "  </thead>\n",
              "  <tbody>\n",
              "    <tr>\n",
              "      <th>0</th>\n",
              "      <td>Internship Trainee</td>\n",
              "      <td>1</td>\n",
              "      <td>17000</td>\n",
              "    </tr>\n",
              "    <tr>\n",
              "      <th>1</th>\n",
              "      <td>Entry-Level</td>\n",
              "      <td>2</td>\n",
              "      <td>36000</td>\n",
              "    </tr>\n",
              "    <tr>\n",
              "      <th>2</th>\n",
              "      <td>Junior Analyst</td>\n",
              "      <td>3</td>\n",
              "      <td>42000</td>\n",
              "    </tr>\n",
              "    <tr>\n",
              "      <th>3</th>\n",
              "      <td>Senior Analyst</td>\n",
              "      <td>4</td>\n",
              "      <td>50000</td>\n",
              "    </tr>\n",
              "    <tr>\n",
              "      <th>4</th>\n",
              "      <td>Junior ML Engineer</td>\n",
              "      <td>5</td>\n",
              "      <td>48000</td>\n",
              "    </tr>\n",
              "  </tbody>\n",
              "</table>\n",
              "</div>\n",
              "      <button class=\"colab-df-convert\" onclick=\"convertToInteractive('df-e3564e5f-9819-446f-bdef-14b9325464ed')\"\n",
              "              title=\"Convert this dataframe to an interactive table.\"\n",
              "              style=\"display:none;\">\n",
              "        \n",
              "  <svg xmlns=\"http://www.w3.org/2000/svg\" height=\"24px\"viewBox=\"0 0 24 24\"\n",
              "       width=\"24px\">\n",
              "    <path d=\"M0 0h24v24H0V0z\" fill=\"none\"/>\n",
              "    <path d=\"M18.56 5.44l.94 2.06.94-2.06 2.06-.94-2.06-.94-.94-2.06-.94 2.06-2.06.94zm-11 1L8.5 8.5l.94-2.06 2.06-.94-2.06-.94L8.5 2.5l-.94 2.06-2.06.94zm10 10l.94 2.06.94-2.06 2.06-.94-2.06-.94-.94-2.06-.94 2.06-2.06.94z\"/><path d=\"M17.41 7.96l-1.37-1.37c-.4-.4-.92-.59-1.43-.59-.52 0-1.04.2-1.43.59L10.3 9.45l-7.72 7.72c-.78.78-.78 2.05 0 2.83L4 21.41c.39.39.9.59 1.41.59.51 0 1.02-.2 1.41-.59l7.78-7.78 2.81-2.81c.8-.78.8-2.07 0-2.86zM5.41 20L4 18.59l7.72-7.72 1.47 1.35L5.41 20z\"/>\n",
              "  </svg>\n",
              "      </button>\n",
              "      \n",
              "  <style>\n",
              "    .colab-df-container {\n",
              "      display:flex;\n",
              "      flex-wrap:wrap;\n",
              "      gap: 12px;\n",
              "    }\n",
              "\n",
              "    .colab-df-convert {\n",
              "      background-color: #E8F0FE;\n",
              "      border: none;\n",
              "      border-radius: 50%;\n",
              "      cursor: pointer;\n",
              "      display: none;\n",
              "      fill: #1967D2;\n",
              "      height: 32px;\n",
              "      padding: 0 0 0 0;\n",
              "      width: 32px;\n",
              "    }\n",
              "\n",
              "    .colab-df-convert:hover {\n",
              "      background-color: #E2EBFA;\n",
              "      box-shadow: 0px 1px 2px rgba(60, 64, 67, 0.3), 0px 1px 3px 1px rgba(60, 64, 67, 0.15);\n",
              "      fill: #174EA6;\n",
              "    }\n",
              "\n",
              "    [theme=dark] .colab-df-convert {\n",
              "      background-color: #3B4455;\n",
              "      fill: #D2E3FC;\n",
              "    }\n",
              "\n",
              "    [theme=dark] .colab-df-convert:hover {\n",
              "      background-color: #434B5C;\n",
              "      box-shadow: 0px 1px 3px 1px rgba(0, 0, 0, 0.15);\n",
              "      filter: drop-shadow(0px 1px 2px rgba(0, 0, 0, 0.3));\n",
              "      fill: #FFFFFF;\n",
              "    }\n",
              "  </style>\n",
              "\n",
              "      <script>\n",
              "        const buttonEl =\n",
              "          document.querySelector('#df-e3564e5f-9819-446f-bdef-14b9325464ed button.colab-df-convert');\n",
              "        buttonEl.style.display =\n",
              "          google.colab.kernel.accessAllowed ? 'block' : 'none';\n",
              "\n",
              "        async function convertToInteractive(key) {\n",
              "          const element = document.querySelector('#df-e3564e5f-9819-446f-bdef-14b9325464ed');\n",
              "          const dataTable =\n",
              "            await google.colab.kernel.invokeFunction('convertToInteractive',\n",
              "                                                     [key], {});\n",
              "          if (!dataTable) return;\n",
              "\n",
              "          const docLinkHtml = 'Like what you see? Visit the ' +\n",
              "            '<a target=\"_blank\" href=https://colab.research.google.com/notebooks/data_table.ipynb>data table notebook</a>'\n",
              "            + ' to learn more about interactive tables.';\n",
              "          element.innerHTML = '';\n",
              "          dataTable['output_type'] = 'display_data';\n",
              "          await google.colab.output.renderOutput(dataTable, element);\n",
              "          const docLink = document.createElement('div');\n",
              "          docLink.innerHTML = docLinkHtml;\n",
              "          element.appendChild(docLink);\n",
              "        }\n",
              "      </script>\n",
              "    </div>\n",
              "  </div>\n",
              "  "
            ]
          },
          "metadata": {},
          "execution_count": 96
        }
      ]
    },
    {
      "cell_type": "markdown",
      "metadata": {
        "id": "3zlC9L2YXnKQ"
      },
      "source": [
        "### d) Extracting the input and output fields"
      ]
    },
    {
      "cell_type": "code",
      "source": [
        "x= df.iloc[:,1:-1].values\n",
        "y= df.iloc[:,-1].values"
      ],
      "metadata": {
        "id": "ZPsrpvqGkFyS"
      },
      "execution_count": 97,
      "outputs": []
    },
    {
      "cell_type": "markdown",
      "metadata": {
        "id": "MTgk_2pWmusP"
      },
      "source": [
        "### e) Setting the printing options, so numbers are printed as whole numbers, withough scientific format or decimal digits."
      ]
    },
    {
      "cell_type": "code",
      "source": [
        "np.set_printoptions(suppress=True)\n",
        "np.set_printoptions(precision=6)\n",
        "np.set_printoptions(formatter={'float': '{: 0.0f}'.format})"
      ],
      "metadata": {
        "id": "EJ68wRkYeRL2"
      },
      "execution_count": 98,
      "outputs": []
    },
    {
      "cell_type": "markdown",
      "metadata": {
        "id": "rCZo6EAWnaJv"
      },
      "source": [
        "### f) Preview"
      ]
    },
    {
      "cell_type": "code",
      "source": [
        "print(x)"
      ],
      "metadata": {
        "colab": {
          "base_uri": "https://localhost:8080/"
        },
        "id": "ixfjlAlJng_O",
        "outputId": "e9707d60-deab-4f8a-98fd-aebe6ae0fe43"
      },
      "execution_count": 99,
      "outputs": [
        {
          "output_type": "stream",
          "name": "stdout",
          "text": [
            "[[ 1]\n",
            " [ 2]\n",
            " [ 3]\n",
            " [ 4]\n",
            " [ 5]\n",
            " [ 6]\n",
            " [ 7]\n",
            " [ 8]\n",
            " [ 9]\n",
            " [10]]\n"
          ]
        }
      ]
    },
    {
      "cell_type": "code",
      "source": [
        "print(y)"
      ],
      "metadata": {
        "colab": {
          "base_uri": "https://localhost:8080/"
        },
        "id": "RhnlHJyRnnrN",
        "outputId": "3b7c7cd3-5568-4914-d09e-f40b3c3ee134"
      },
      "execution_count": 100,
      "outputs": [
        {
          "output_type": "stream",
          "name": "stdout",
          "text": [
            "[ 17000  36000  42000  50000  48000  58000  70000  88000 158000 299000]\n"
          ]
        }
      ]
    },
    {
      "cell_type": "markdown",
      "metadata": {
        "id": "vN99YjPTDena"
      },
      "source": [
        "# I. Polynomial Regression"
      ]
    },
    {
      "cell_type": "markdown",
      "metadata": {
        "id": "37puETfgRzzg"
      },
      "source": [
        "# Data Preprocessing"
      ]
    },
    {
      "cell_type": "markdown",
      "metadata": {
        "id": "4JyoqVLAe8dS"
      },
      "source": [
        "## Training the Linear Regression model on the whole dataset"
      ]
    },
    {
      "cell_type": "code",
      "source": [
        "from sklearn.linear_model import LinearRegression\n",
        "lin_reg = LinearRegression()\n",
        "lin_reg.fit(x, y)"
      ],
      "metadata": {
        "colab": {
          "base_uri": "https://localhost:8080/"
        },
        "id": "JCP-2p1KioGJ",
        "outputId": "ee069607-b696-4924-c57e-4c117971f5e4"
      },
      "execution_count": 101,
      "outputs": [
        {
          "output_type": "execute_result",
          "data": {
            "text/plain": [
              "LinearRegression()"
            ]
          },
          "metadata": {},
          "execution_count": 101
        }
      ]
    },
    {
      "cell_type": "markdown",
      "metadata": {
        "id": "Rb5nWuSHEfBV"
      },
      "source": [
        "## Training the Polynomial Regression model on the whole dataset"
      ]
    },
    {
      "cell_type": "markdown",
      "source": [
        "a) For deg = 3"
      ],
      "metadata": {
        "id": "JffkTHk3qGA9"
      }
    },
    {
      "cell_type": "code",
      "source": [
        "from sklearn.preprocessing import PolynomialFeatures\n",
        "poly_reg_3 = PolynomialFeatures(degree=3)\n",
        "x_poly_3 = poly_reg_3.fit_transform(x)"
      ],
      "metadata": {
        "id": "Y6D0JJgAljbl"
      },
      "execution_count": 102,
      "outputs": []
    },
    {
      "cell_type": "code",
      "source": [
        "print(x_poly_3[:,2])"
      ],
      "metadata": {
        "colab": {
          "base_uri": "https://localhost:8080/"
        },
        "id": "WFUuKJJAph08",
        "outputId": "3b265d9b-31a0-448d-ce50-5029b3b683c7"
      },
      "execution_count": 103,
      "outputs": [
        {
          "output_type": "stream",
          "name": "stdout",
          "text": [
            "[ 1  4  9  16  25  36  49  64  81  100]\n"
          ]
        }
      ]
    },
    {
      "cell_type": "code",
      "source": [
        "x1_3 = x_poly_3[:,1]\n",
        "x2_3 = x_poly_3[:,2]\n",
        "x3_3 = x_poly_3[:,3]"
      ],
      "metadata": {
        "id": "TgItJv3tp8KH"
      },
      "execution_count": 104,
      "outputs": []
    },
    {
      "cell_type": "markdown",
      "source": [
        "The trick for the polynomila regression model is that it is converted into a multiple Linear Regression, where the powers of x are symbolized as multiple variables \"features\""
      ],
      "metadata": {
        "id": "4ChQtxb6s170"
      }
    },
    {
      "cell_type": "code",
      "source": [
        "lin_reg_3 = LinearRegression()\n",
        "lin_reg_3.fit(x_poly_3, y)"
      ],
      "metadata": {
        "colab": {
          "base_uri": "https://localhost:8080/"
        },
        "id": "vNy1G8Ecs171",
        "outputId": "c3838e1a-5eb6-45f5-e3c9-ebeb7dfec39d"
      },
      "execution_count": 105,
      "outputs": [
        {
          "output_type": "execute_result",
          "data": {
            "text/plain": [
              "LinearRegression()"
            ]
          },
          "metadata": {},
          "execution_count": 105
        }
      ]
    },
    {
      "cell_type": "markdown",
      "source": [
        "a) For deg = 5"
      ],
      "metadata": {
        "id": "UcdWIz8wqM5G"
      }
    },
    {
      "cell_type": "code",
      "source": [
        "from sklearn.preprocessing import PolynomialFeatures\n",
        "poly_reg_5 = PolynomialFeatures(degree=5)\n",
        "x_poly_5 = poly_reg_5.fit_transform(x)"
      ],
      "metadata": {
        "id": "18Q94z-OqM5H"
      },
      "execution_count": 106,
      "outputs": []
    },
    {
      "cell_type": "code",
      "source": [
        "print(x_poly_5[:,2])"
      ],
      "metadata": {
        "colab": {
          "base_uri": "https://localhost:8080/"
        },
        "outputId": "355f8244-33ac-4ccf-e07b-b46956650b40",
        "id": "LGBEu7MUqM5H"
      },
      "execution_count": 107,
      "outputs": [
        {
          "output_type": "stream",
          "name": "stdout",
          "text": [
            "[ 1  4  9  16  25  36  49  64  81  100]\n"
          ]
        }
      ]
    },
    {
      "cell_type": "code",
      "source": [
        "x1_5 = x_poly_5[:,1]\n",
        "x2_5 = x_poly_5[:,2]\n",
        "x3_5 = x_poly_5[:,3]"
      ],
      "metadata": {
        "id": "nGpCCcJPqM5I"
      },
      "execution_count": 108,
      "outputs": []
    },
    {
      "cell_type": "code",
      "source": [
        "lin_reg_5 = LinearRegression()\n",
        "lin_reg_5.fit(x_poly_5, y)"
      ],
      "metadata": {
        "colab": {
          "base_uri": "https://localhost:8080/"
        },
        "id": "1r5TcVt4sVDP",
        "outputId": "752472ab-3f5b-4021-fcaa-f9e7b93c231a"
      },
      "execution_count": 109,
      "outputs": [
        {
          "output_type": "execute_result",
          "data": {
            "text/plain": [
              "LinearRegression()"
            ]
          },
          "metadata": {},
          "execution_count": 109
        }
      ]
    },
    {
      "cell_type": "markdown",
      "metadata": {
        "id": "stOnSo74E52m"
      },
      "source": [
        "## Visualising Linear & Polynomial Regression models all together for comparison"
      ]
    },
    {
      "cell_type": "code",
      "source": [
        "# plotting the real points of the dataset:\n",
        "plt.scatter(x, y, color = 'black')\n",
        "\n",
        "# plotting the linear model, as predicted by the trained LinearRegression:\n",
        "y_predict = lin_reg.predict(x)\n",
        "plt.plot(x, y_predict, color = 'blue', linestyle='dashed', label='Linear')\n",
        "\n",
        "# plotting the polynomial model of 3rd degree, \n",
        "# as predicted by the trained polynomial Regression poly_reg:\n",
        "y_predict_3 = lin_reg_3.predict(x_poly_3)\n",
        "plt.plot(x, y_predict_3, color = 'red', linestyle='dashed', label='Polynomial of 3rd deg.')\n",
        "\n",
        "# plotting the polynomial model of 5th degree, \n",
        "# as predicted by the trained polynomial Regression poly_reg:\n",
        "y_predict_5 = lin_reg_5.predict(x_poly_5)\n",
        "plt.plot(x, y_predict_5, color = 'grey', label='Polynomial of 5th deg. (the most accurate)')\n",
        "\n",
        "plt.title('Truth or bluf? - Linear vs. Polynomial Regression')\n",
        "plt.xlabel('Job position level')\n",
        "plt.ylabel('Salary')\n",
        "plt.legend()\n",
        "plt.show()"
      ],
      "metadata": {
        "colab": {
          "base_uri": "https://localhost:8080/",
          "height": 295
        },
        "id": "w8VpjFvw52Tq",
        "outputId": "c2b6c0b3-468c-4ae2-f9fa-a71e9fdc89b5"
      },
      "execution_count": 110,
      "outputs": [
        {
          "output_type": "display_data",
          "data": {
            "text/plain": [
              "<Figure size 432x288 with 1 Axes>"
            ],
            "image/png": "[encoded data removed]"
          },
          "metadata": {
            "needs_background": "light"
          }
        }
      ]
    },
    {
      "cell_type": "markdown",
      "source": [
        "We notice the the polynomial model of 5th degree is the best fit of the graph. However, we should be mindful of the risk of falling into the trap pf an overfitting model."
      ],
      "metadata": {
        "id": "TNH8S59lt88M"
      }
    },
    {
      "cell_type": "markdown",
      "metadata": {
        "id": "diyJFZHhFFeK"
      },
      "source": [
        "## Predicting a new result with Linear Regression"
      ]
    },
    {
      "cell_type": "code",
      "source": [
        "np.set_printoptions(precision=2)"
      ],
      "metadata": {
        "id": "LwP_htXUsUIy"
      },
      "execution_count": 42,
      "outputs": []
    },
    {
      "cell_type": "code",
      "source": [
        "x0 = [[5.5]]"
      ],
      "metadata": {
        "id": "7Sjz1LhkrLgY"
      },
      "execution_count": 111,
      "outputs": []
    },
    {
      "cell_type": "code",
      "source": [
        "y0_lin = lin_reg.predict(x0)"
      ],
      "metadata": {
        "id": "Zi8CzMqjr8nn"
      },
      "execution_count": 114,
      "outputs": []
    },
    {
      "cell_type": "code",
      "source": [
        "print(y0_lin)"
      ],
      "metadata": {
        "colab": {
          "base_uri": "https://localhost:8080/"
        },
        "id": "hgyvhfH--xAf",
        "outputId": "eb605b9a-bdda-40ae-ab50-a846dadf00f4"
      },
      "execution_count": 115,
      "outputs": [
        {
          "output_type": "stream",
          "name": "stdout",
          "text": [
            "[ 86600]\n"
          ]
        }
      ]
    },
    {
      "cell_type": "markdown",
      "source": [
        "## **Conclusion:** According to the linear regression model, a salary of $60k is very modest for such an engineer and he deserves much more than that! 😇"
      ],
      "metadata": {
        "id": "ONgf5UjwI77Y"
      }
    },
    {
      "cell_type": "markdown",
      "metadata": {
        "id": "DW7I7ZVDFNkk"
      },
      "source": [
        "## Predicting a new result with Polynomial Regression"
      ]
    },
    {
      "cell_type": "code",
      "source": [
        "x0_pol = poly_reg_5.fit_transform(x0)"
      ],
      "metadata": {
        "id": "RoPaD5FGslYE"
      },
      "execution_count": 116,
      "outputs": []
    },
    {
      "cell_type": "code",
      "source": [
        "y0_pol = lin_reg_5.predict(x0_pol)"
      ],
      "metadata": {
        "id": "R4pj6BQis4zz"
      },
      "execution_count": 117,
      "outputs": []
    },
    {
      "cell_type": "code",
      "source": [
        "print(y0_pol)"
      ],
      "metadata": {
        "colab": {
          "base_uri": "https://localhost:8080/"
        },
        "id": "ScRE4_mZ-6Az",
        "outputId": "7a149643-ce24-4188-cec2-6da8b9c24e8a"
      },
      "execution_count": 118,
      "outputs": [
        {
          "output_type": "stream",
          "name": "stdout",
          "text": [
            "[ 54180]\n"
          ]
        }
      ]
    },
    {
      "cell_type": "markdown",
      "source": [
        "## **Conclusion:** According to the polynomial regression model of 5th degree (which is much more accurate than the linear one), a salary of $65k is pretty higher than the number claimed by the applicant, which means that he's likely to be bluffing 🤥"
      ],
      "metadata": {
        "id": "hYD5TTl5JjnI"
      }
    },
    {
      "cell_type": "markdown",
      "source": [
        "\n",
        "\n",
        "---\n",
        "\n",
        "\n",
        "\n",
        "---\n",
        "\n"
      ],
      "metadata": {
        "id": "__4ER9pjwhf4"
      }
    },
    {
      "cell_type": "markdown",
      "metadata": {
        "id": "m3PAEPRDRLA3"
      },
      "source": [
        "# II. Support Vector Regression (SVR)"
      ]
    },
    {
      "cell_type": "markdown",
      "metadata": {
        "id": "piJwIv7NwwWv"
      },
      "source": [
        "# Data Preprocessing"
      ]
    },
    {
      "cell_type": "markdown",
      "metadata": {
        "id": "YS8FeLHYS-nI"
      },
      "source": [
        "## Feature Scaling"
      ]
    },
    {
      "cell_type": "code",
      "source": [
        "y.shape"
      ],
      "metadata": {
        "colab": {
          "base_uri": "https://localhost:8080/"
        },
        "id": "JfCTSX6RyDQJ",
        "outputId": "d1c8de88-7783-42cc-d896-a151a0a6c0f9"
      },
      "execution_count": 150,
      "outputs": [
        {
          "output_type": "execute_result",
          "data": {
            "text/plain": [
              "(10, 1)"
            ]
          },
          "metadata": {},
          "execution_count": 150
        }
      ]
    },
    {
      "cell_type": "code",
      "source": [
        "y=y.reshape(len(y),1)\n",
        "y.shape"
      ],
      "metadata": {
        "colab": {
          "base_uri": "https://localhost:8080/"
        },
        "id": "3ZKc77wayFXh",
        "outputId": "66b73213-50fa-4db9-e978-62c4dc429b82"
      },
      "execution_count": 151,
      "outputs": [
        {
          "output_type": "execute_result",
          "data": {
            "text/plain": [
              "(10, 1)"
            ]
          },
          "metadata": {},
          "execution_count": 151
        }
      ]
    },
    {
      "cell_type": "markdown",
      "source": [
        "Note: without the above command\n",
        ", we'd get the error\n",
        "<br> \"Expected 2D array, got 1D array instead\"\n",
        " <br>  for the y array y, when we try the command \n",
        "<br> y_scaled = sc_y.fit_transform(y)\n",
        "<br> in the cell below\n",
        " "
      ],
      "metadata": {
        "id": "vhxWVLsjxsaj"
      }
    },
    {
      "cell_type": "code",
      "source": [
        "from sklearn.preprocessing import StandardScaler\n",
        "sc_x = StandardScaler()\n",
        "x_scaled = sc_x.fit_transform(x)\n",
        "sc_y = StandardScaler()\n",
        "y_scaled = sc_y.fit_transform(y)"
      ],
      "metadata": {
        "id": "sg7U3LKhV6Lo"
      },
      "execution_count": 152,
      "outputs": []
    },
    {
      "cell_type": "code",
      "source": [
        "print(x_scaled)"
      ],
      "metadata": {
        "colab": {
          "base_uri": "https://localhost:8080/"
        },
        "id": "y70BAaXgXEUn",
        "outputId": "72679967-e3af-4791-865a-a10d0f86c4e6"
      },
      "execution_count": 153,
      "outputs": [
        {
          "output_type": "stream",
          "name": "stdout",
          "text": [
            "[[-2]\n",
            " [-1]\n",
            " [-1]\n",
            " [-1]\n",
            " [-0]\n",
            " [ 0]\n",
            " [ 1]\n",
            " [ 1]\n",
            " [ 1]\n",
            " [ 2]]\n"
          ]
        }
      ]
    },
    {
      "cell_type": "code",
      "source": [
        "print(y_scaled)"
      ],
      "metadata": {
        "colab": {
          "base_uri": "https://localhost:8080/"
        },
        "id": "03i-R317XLk0",
        "outputId": "41a0fb29-6601-451c-8986-6c4df53ed4f6"
      },
      "execution_count": 154,
      "outputs": [
        {
          "output_type": "stream",
          "name": "stdout",
          "text": [
            "[[-1]\n",
            " [-1]\n",
            " [-1]\n",
            " [-0]\n",
            " [-0]\n",
            " [-0]\n",
            " [-0]\n",
            " [ 0]\n",
            " [ 1]\n",
            " [ 3]]\n"
          ]
        }
      ]
    },
    {
      "cell_type": "markdown",
      "metadata": {
        "id": "eiU6D2QFRjxY"
      },
      "source": [
        "## Training the SVR model on the whole dataset"
      ]
    },
    {
      "cell_type": "code",
      "source": [
        "from sklearn.svm import SVR\n",
        "regressor = SVR(kernel = 'rbf')\n",
        "regressor.fit(x_scaled,y_scaled)"
      ],
      "metadata": {
        "colab": {
          "base_uri": "https://localhost:8080/"
        },
        "id": "ZXLeQzVjXrtG",
        "outputId": "397f9301-2368-4225-dc98-19af837f36a4"
      },
      "execution_count": 155,
      "outputs": [
        {
          "output_type": "stream",
          "name": "stderr",
          "text": [
            "/usr/local/lib/python3.7/dist-packages/sklearn/utils/validation.py:993: DataConversionWarning: A column-vector y was passed when a 1d array was expected. Please change the shape of y to (n_samples, ), for example using ravel().\n",
            "  y = column_or_1d(y, warn=True)\n"
          ]
        },
        {
          "output_type": "execute_result",
          "data": {
            "text/plain": [
              "SVR()"
            ]
          },
          "metadata": {},
          "execution_count": 155
        }
      ]
    },
    {
      "cell_type": "markdown",
      "metadata": {
        "id": "deDnDr8UR5vq"
      },
      "source": [
        "## Predicting a new result"
      ]
    },
    {
      "cell_type": "markdown",
      "source": [
        "The steps to follow here are:\n",
        "\n",
        "\n",
        "1.   Scale the input value (position level = 6.5), using the same object, which was used for x; i.e. sc_x\n",
        "2.   Apply the prediction method on the scaled value\n",
        "2.   The obtained value of y will be in the scaled form. Therefore, we need to apply the inverse transformation on it to get the corresponding value.\n",
        "\n",
        "Important note:\n",
        "For the requested value 6.5,\n",
        "when we want to scale it, we should use the function sc_x.transform to scale it, NOT sc_x.fit_transform\n",
        "if we use the latter one, it will override the original scaling for the array x, and scale it according to 6.5\n",
        "and in that case, the scaled value will be 0, because:\n",
        "for a single value, the mean is the same as the value itself, and therefore, the scaled value will be (6.5-6.5)/sigma = 0\n",
        "\n",
        "\n",
        "\n",
        "\n"
      ],
      "metadata": {
        "id": "64kvxLiTHWZN"
      }
    },
    {
      "cell_type": "code",
      "source": [
        "x0= np.array([[5.5]])"
      ],
      "metadata": {
        "id": "M6LKzCHmTmC0"
      },
      "execution_count": 157,
      "outputs": []
    },
    {
      "cell_type": "code",
      "source": [
        "x0_scaled = sc_x.transform(x0)"
      ],
      "metadata": {
        "id": "3gSxu6mqWdM_"
      },
      "execution_count": 158,
      "outputs": []
    },
    {
      "cell_type": "code",
      "source": [
        "print(x0_scaled)"
      ],
      "metadata": {
        "colab": {
          "base_uri": "https://localhost:8080/"
        },
        "id": "PuiFCTv4W5wb",
        "outputId": "f40b4052-dd50-4828-e369-1628de45ef59"
      },
      "execution_count": 159,
      "outputs": [
        {
          "output_type": "stream",
          "name": "stdout",
          "text": [
            "[[ 0]]\n"
          ]
        }
      ]
    },
    {
      "cell_type": "code",
      "source": [
        "y0_scaled = regressor.predict(x0_scaled)\n",
        "print(y0_scaled)"
      ],
      "metadata": {
        "colab": {
          "base_uri": "https://localhost:8080/"
        },
        "id": "H8Gw-Bz8J-us",
        "outputId": "3c6712ba-79dc-4b20-e8d2-872f61983d16"
      },
      "execution_count": 160,
      "outputs": [
        {
          "output_type": "stream",
          "name": "stdout",
          "text": [
            "[-0]\n"
          ]
        }
      ]
    },
    {
      "cell_type": "code",
      "source": [
        "y0 = sc_y.inverse_transform([y0_scaled])\n",
        "print(y0)"
      ],
      "metadata": {
        "colab": {
          "base_uri": "https://localhost:8080/"
        },
        "id": "rKZYQpxKJHVZ",
        "outputId": "57b72595-0bb0-42a0-b5e2-55118a19bc24"
      },
      "execution_count": 161,
      "outputs": [
        {
          "output_type": "stream",
          "name": "stdout",
          "text": [
            "[[ 57473]]\n"
          ]
        }
      ]
    },
    {
      "cell_type": "markdown",
      "source": [
        "Note on the scaling:\n",
        "When we scale a sample, all the scaled values will be in the range [approx. -2.7, approx. 2.7],\n",
        "Having applied fit_transform, if we scale a new value, which is beyond the range of the given sample, the scaled value will also be beyond the standard range mentioned above.\n",
        "In ML models, we usually try to find such extreme values.\n",
        "For example, the middle value in the array below, will be scaled to a value that is greater than 10000."
      ],
      "metadata": {
        "id": "yWyi5t4yBOe1"
      }
    },
    {
      "cell_type": "code",
      "source": [
        "x2= np.array([[2,  60000, 7.6]])\n",
        "x2col = np.transpose(x2)\n",
        "# x0col = np.transpose(x0)\n",
        "x2_scaled = sc_x.transform(x2col)\n",
        "print(x2_scaled)"
      ],
      "metadata": {
        "colab": {
          "base_uri": "https://localhost:8080/"
        },
        "id": "C_gMi0AyYoMu",
        "outputId": "fc737e6b-83a1-458a-bc10-1d85bacb60f3"
      },
      "execution_count": 162,
      "outputs": [
        {
          "output_type": "stream",
          "name": "stdout",
          "text": [
            "[[-1]\n",
            " [ 20887]\n",
            " [ 1]]\n"
          ]
        }
      ]
    },
    {
      "cell_type": "markdown",
      "metadata": {
        "id": "zzedFlUISSu_"
      },
      "source": [
        "## Visualising the SVR results"
      ]
    },
    {
      "cell_type": "code",
      "source": [
        "# Getting the predicted values for the y, based on the trained model:\n",
        "y_predict_scaled = regressor.predict(x_scaled)\n",
        "print(y_predict_scaled)\n",
        "\n",
        "\n"
      ],
      "metadata": {
        "colab": {
          "base_uri": "https://localhost:8080/"
        },
        "outputId": "ccdf2a93-0bf1-4d1b-b6d5-54681d015de0",
        "id": "SWqArDgYxBmU"
      },
      "execution_count": 163,
      "outputs": [
        {
          "output_type": "stream",
          "name": "stdout",
          "text": [
            "[-1 -1 -1 -0 -0 -0 -0  0  1  1]\n"
          ]
        }
      ]
    },
    {
      "cell_type": "code",
      "source": [
        "y_predict_scaled.shape"
      ],
      "metadata": {
        "colab": {
          "base_uri": "https://localhost:8080/"
        },
        "id": "eiJ0gwa4MSne",
        "outputId": "b79612b3-f8d8-4441-dec5-8b69664bb63c"
      },
      "execution_count": 164,
      "outputs": [
        {
          "output_type": "execute_result",
          "data": {
            "text/plain": [
              "(10,)"
            ]
          },
          "metadata": {},
          "execution_count": 164
        }
      ]
    },
    {
      "cell_type": "code",
      "source": [
        "y_predict = sc_y.inverse_transform([y_predict_scaled])\n",
        "y_predict.shape"
      ],
      "metadata": {
        "colab": {
          "base_uri": "https://localhost:8080/"
        },
        "id": "fsiI0HphMluZ",
        "outputId": "ac7f90e3-59d3-4efa-d993-6d498486435e"
      },
      "execution_count": 165,
      "outputs": [
        {
          "output_type": "execute_result",
          "data": {
            "text/plain": [
              "(1, 10)"
            ]
          },
          "metadata": {},
          "execution_count": 165
        }
      ]
    },
    {
      "cell_type": "code",
      "source": [
        "y_predict_v = np.transpose(y_predict)"
      ],
      "metadata": {
        "id": "pDObtq5PN5oU"
      },
      "execution_count": 166,
      "outputs": []
    },
    {
      "cell_type": "code",
      "source": [
        "y_predict_v.shape"
      ],
      "metadata": {
        "colab": {
          "base_uri": "https://localhost:8080/"
        },
        "id": "oIsdMsZTM2RN",
        "outputId": "5319269a-d593-40ee-b2c3-b49ad058a81a"
      },
      "execution_count": 167,
      "outputs": [
        {
          "output_type": "execute_result",
          "data": {
            "text/plain": [
              "(10, 1)"
            ]
          },
          "metadata": {},
          "execution_count": 167
        }
      ]
    },
    {
      "cell_type": "code",
      "source": [
        "# plotting the real points of the dataset:\n",
        "plt.scatter(x, y, color = 'black')\n",
        "# plotting the SVR model, as predicted by the trained SVR Regression:\n",
        "\n",
        "\n",
        "\n",
        "plt.plot(x, y_predict_v, color = 'blue', linestyle='dashed', label='SVR Regression')\n",
        "\n",
        "plt.title('Truth or bluf? ')\n",
        "plt.xlabel('Job position level')\n",
        "plt.ylabel('Salary')\n",
        "plt.legend()\n",
        "plt.show()"
      ],
      "metadata": {
        "colab": {
          "base_uri": "https://localhost:8080/",
          "height": 295
        },
        "id": "SUAy74iuHOcc",
        "outputId": "651c0b7e-d86f-4783-b927-4a1df2e1d457"
      },
      "execution_count": 168,
      "outputs": [
        {
          "output_type": "display_data",
          "data": {
            "text/plain": [
              "<Figure size 432x288 with 1 Axes>"
            ],
            "image/png": "[encoded data removed]"
          },
          "metadata": {
            "needs_background": "light"
          }
        }
      ]
    },
    {
      "cell_type": "markdown",
      "source": [
        "\n",
        "\n",
        "---\n",
        "\n",
        "\n",
        "\n",
        "---\n",
        "\n"
      ],
      "metadata": {
        "id": "kz0SkGK63kZQ"
      }
    },
    {
      "cell_type": "markdown",
      "source": [
        "# III. Decision Tree"
      ],
      "metadata": {
        "id": "NaNnMYA63tJT"
      }
    },
    {
      "cell_type": "markdown",
      "metadata": {
        "id": "g16qFkFQVC35"
      },
      "source": [
        "## Training the Decision Tree Regression model on the whole dataset"
      ]
    },
    {
      "cell_type": "code",
      "metadata": {
        "id": "SLDKyv1SVUqS",
        "outputId": "8286df32-2b22-4cba-8f98-1740c62431a8",
        "colab": {
          "base_uri": "https://localhost:8080/"
        }
      },
      "source": [
        "from sklearn.tree import DecisionTreeRegressor\n",
        "# In the following line, we precise the seed of the random function, so we get the same pattern everytime we run the code\n",
        "TreeRegressor = DecisionTreeRegressor(random_state = 0)\n",
        "TreeRegressor.fit(x, y)"
      ],
      "execution_count": 169,
      "outputs": [
        {
          "output_type": "execute_result",
          "data": {
            "text/plain": [
              "DecisionTreeRegressor(random_state=0)"
            ]
          },
          "metadata": {},
          "execution_count": 169
        }
      ]
    },
    {
      "cell_type": "markdown",
      "metadata": {
        "id": "MQRGPTH3VcOn"
      },
      "source": [
        "## Predicting a new result"
      ]
    },
    {
      "cell_type": "code",
      "metadata": {
        "id": "_FpGZf7vVgrK",
        "outputId": "8ba7f210-afd8-4558-f436-fb3e700ca8e6",
        "colab": {
          "base_uri": "https://localhost:8080/"
        }
      },
      "source": [
        "TreeRegressor.predict([[5.5]])"
      ],
      "execution_count": 170,
      "outputs": [
        {
          "output_type": "execute_result",
          "data": {
            "text/plain": [
              "array([ 48000])"
            ]
          },
          "metadata": {},
          "execution_count": 170
        }
      ]
    },
    {
      "cell_type": "markdown",
      "metadata": {
        "id": "ph8ExBj0VkIT"
      },
      "source": [
        "## Visualising the Decision Tree Regression results (higher resolution)"
      ]
    },
    {
      "cell_type": "code",
      "metadata": {
        "id": "zzH1Vv1oVrqe",
        "outputId": "8f3966ec-19c1-497e-9b42-ac80667d27bc",
        "colab": {
          "base_uri": "https://localhost:8080/",
          "height": 295
        }
      },
      "source": [
        "x_grid = np.arange(min(x), max(x), 0.1)\n",
        "x_grid = x_grid.reshape((len(x_grid), 1))\n",
        "plt.scatter(x, y, color = 'red')\n",
        "plt.plot(x_grid, TreeRegressor.predict(x_grid), color = 'blue')\n",
        "plt.title('Truth or Bluff (Decision Tree Regression)')\n",
        "plt.xlabel('Position level')\n",
        "plt.ylabel('Salary')\n",
        "plt.show()"
      ],
      "execution_count": 176,
      "outputs": [
        {
          "output_type": "display_data",
          "data": {
            "text/plain": [
              "<Figure size 432x288 with 1 Axes>"
            ],
            "image/png": "[encoded data removed]"
          },
          "metadata": {
            "needs_background": "light"
          }
        }
      ]
    },
    {
      "cell_type": "markdown",
      "source": [
        "\n",
        "\n",
        "---\n",
        "\n",
        "\n",
        "\n",
        "---\n",
        "\n"
      ],
      "metadata": {
        "id": "wNCYyKwp34xu"
      }
    },
    {
      "cell_type": "markdown",
      "source": [
        "# IV. Random Forest Regression"
      ],
      "metadata": {
        "id": "d8Jt73IO34xw"
      }
    },
    {
      "cell_type": "markdown",
      "metadata": {
        "id": "v4S2fyIBYDcu"
      },
      "source": [
        "## Training the Random Forest Regression model on the whole dataset"
      ]
    },
    {
      "cell_type": "code",
      "metadata": {
        "id": "o8dOCoJ1YKMc",
        "outputId": "af790c5f-d285-424c-ba33-28f44aa7ccc5",
        "colab": {
          "base_uri": "https://localhost:8080/"
        }
      },
      "source": [
        "from sklearn.ensemble import RandomForestRegressor\n",
        "my_RandomForestRegressor = RandomForestRegressor(n_estimators = 10, random_state = 0)\n",
        "my_RandomForestRegressor.fit(x, y)"
      ],
      "execution_count": 177,
      "outputs": [
        {
          "output_type": "stream",
          "name": "stderr",
          "text": [
            "/usr/local/lib/python3.7/dist-packages/ipykernel_launcher.py:3: DataConversionWarning: A column-vector y was passed when a 1d array was expected. Please change the shape of y to (n_samples,), for example using ravel().\n",
            "  This is separate from the ipykernel package so we can avoid doing imports until\n"
          ]
        },
        {
          "output_type": "execute_result",
          "data": {
            "text/plain": [
              "RandomForestRegressor(n_estimators=10, random_state=0)"
            ]
          },
          "metadata": {},
          "execution_count": 177
        }
      ]
    },
    {
      "cell_type": "markdown",
      "metadata": {
        "id": "8IbsXbK3YM4M"
      },
      "source": [
        "## Predicting a new result"
      ]
    },
    {
      "cell_type": "code",
      "metadata": {
        "id": "pTXrS8FEYQlJ",
        "colab": {
          "base_uri": "https://localhost:8080/"
        },
        "outputId": "d7203571-4efb-4c2a-a910-b0a097545e1a"
      },
      "source": [
        "my_RandomForestRegressor.predict([[5.5]])"
      ],
      "execution_count": 173,
      "outputs": [
        {
          "output_type": "execute_result",
          "data": {
            "text/plain": [
              "array([ 49400])"
            ]
          },
          "metadata": {},
          "execution_count": 173
        }
      ]
    },
    {
      "cell_type": "markdown",
      "metadata": {
        "id": "kLqF9yMbYTon"
      },
      "source": [
        "## Visualising the Random Forest Regression results (higher resolution)"
      ]
    },
    {
      "cell_type": "code",
      "metadata": {
        "id": "BMlTBifVYWNr",
        "outputId": "7cc70d4a-9b6e-4594-e871-fb8902abb30b",
        "colab": {
          "base_uri": "https://localhost:8080/",
          "height": 295
        }
      },
      "source": [
        "x_grid = np.arange(min(x), max(x), 0.01)\n",
        "x_grid = x_grid.reshape((len(x_grid), 1))\n",
        "plt.scatter(x, y, color = 'red')\n",
        "plt.plot(x_grid, my_RandomForestRegressor.predict(x_grid), color = 'blue')\n",
        "plt.title('Truth or Bluff (Random Forest Regression)')\n",
        "plt.xlabel('Position level')\n",
        "plt.ylabel('Salary')\n",
        "plt.show()"
      ],
      "execution_count": 178,
      "outputs": [
        {
          "output_type": "display_data",
          "data": {
            "text/plain": [
              "<Figure size 432x288 with 1 Axes>"
            ],
            "image/png": "[encoded data removed]"
          },
          "metadata": {
            "needs_background": "light"
          }
        }
      ]
    }
  ]
}